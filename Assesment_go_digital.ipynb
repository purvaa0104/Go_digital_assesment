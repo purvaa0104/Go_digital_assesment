{
 "cells": [
  {
   "cell_type": "code",
   "execution_count": 1,
   "metadata": {},
   "outputs": [],
   "source": [
    "import pandas as pd \n",
    "import numpy as np  "
   ]
  },
  {
   "cell_type": "code",
   "execution_count": 2,
   "metadata": {},
   "outputs": [],
   "source": [
    "insurance_data = pd.read_csv('insurance_data.csv')\n",
    "employee_data = pd.read_csv('employee_data.csv')\n",
    "vendor_data = pd.read_csv('vendor_data.csv')"
   ]
  },
  {
   "cell_type": "code",
   "execution_count": 3,
   "metadata": {},
   "outputs": [
    {
     "data": {
      "text/html": [
       "<div>\n",
       "<style scoped>\n",
       "    .dataframe tbody tr th:only-of-type {\n",
       "        vertical-align: middle;\n",
       "    }\n",
       "\n",
       "    .dataframe tbody tr th {\n",
       "        vertical-align: top;\n",
       "    }\n",
       "\n",
       "    .dataframe thead th {\n",
       "        text-align: right;\n",
       "    }\n",
       "</style>\n",
       "<table border=\"1\" class=\"dataframe\">\n",
       "  <thead>\n",
       "    <tr style=\"text-align: right;\">\n",
       "      <th></th>\n",
       "      <th>TXN_DATE_TIME</th>\n",
       "      <th>TRANSACTION_ID</th>\n",
       "      <th>CUSTOMER_ID</th>\n",
       "      <th>POLICY_NUMBER</th>\n",
       "      <th>POLICY_EFF_DT</th>\n",
       "      <th>LOSS_DT</th>\n",
       "      <th>REPORT_DT</th>\n",
       "      <th>INSURANCE_TYPE</th>\n",
       "      <th>PREMIUM_AMOUNT</th>\n",
       "      <th>CLAIM_AMOUNT</th>\n",
       "      <th>...</th>\n",
       "      <th>CLAIM_STATUS</th>\n",
       "      <th>INCIDENT_SEVERITY</th>\n",
       "      <th>AUTHORITY_CONTACTED</th>\n",
       "      <th>ANY_INJURY</th>\n",
       "      <th>POLICE_REPORT_AVAILABLE</th>\n",
       "      <th>INCIDENT_STATE</th>\n",
       "      <th>INCIDENT_CITY</th>\n",
       "      <th>INCIDENT_HOUR_OF_THE_DAY</th>\n",
       "      <th>AGENT_ID</th>\n",
       "      <th>VENDOR_ID</th>\n",
       "    </tr>\n",
       "  </thead>\n",
       "  <tbody>\n",
       "    <tr>\n",
       "      <th>0</th>\n",
       "      <td>2020-06-01 00:00:00</td>\n",
       "      <td>TXN00000001</td>\n",
       "      <td>A00003822</td>\n",
       "      <td>PLC00008468</td>\n",
       "      <td>2015-06-23</td>\n",
       "      <td>2020-05-16</td>\n",
       "      <td>2020-05-21</td>\n",
       "      <td>Health</td>\n",
       "      <td>157.13</td>\n",
       "      <td>9000</td>\n",
       "      <td>...</td>\n",
       "      <td>A</td>\n",
       "      <td>Major Loss</td>\n",
       "      <td>Police</td>\n",
       "      <td>0</td>\n",
       "      <td>1</td>\n",
       "      <td>GA</td>\n",
       "      <td>Savannah</td>\n",
       "      <td>4</td>\n",
       "      <td>AGENT00413</td>\n",
       "      <td>VNDR00556</td>\n",
       "    </tr>\n",
       "    <tr>\n",
       "      <th>1</th>\n",
       "      <td>2020-06-01 00:00:00</td>\n",
       "      <td>TXN00000002</td>\n",
       "      <td>A00008149</td>\n",
       "      <td>PLC00009594</td>\n",
       "      <td>2018-04-21</td>\n",
       "      <td>2020-05-13</td>\n",
       "      <td>2020-05-18</td>\n",
       "      <td>Property</td>\n",
       "      <td>141.71</td>\n",
       "      <td>26000</td>\n",
       "      <td>...</td>\n",
       "      <td>A</td>\n",
       "      <td>Total Loss</td>\n",
       "      <td>Ambulance</td>\n",
       "      <td>1</td>\n",
       "      <td>0</td>\n",
       "      <td>AL</td>\n",
       "      <td>Montgomery</td>\n",
       "      <td>0</td>\n",
       "      <td>AGENT00769</td>\n",
       "      <td>VNDR00592</td>\n",
       "    </tr>\n",
       "    <tr>\n",
       "      <th>2</th>\n",
       "      <td>2020-06-01 00:00:00</td>\n",
       "      <td>TXN00000003</td>\n",
       "      <td>A00003172</td>\n",
       "      <td>PLC00007969</td>\n",
       "      <td>2019-10-03</td>\n",
       "      <td>2020-05-21</td>\n",
       "      <td>2020-05-26</td>\n",
       "      <td>Property</td>\n",
       "      <td>157.24</td>\n",
       "      <td>13000</td>\n",
       "      <td>...</td>\n",
       "      <td>A</td>\n",
       "      <td>Total Loss</td>\n",
       "      <td>Police</td>\n",
       "      <td>0</td>\n",
       "      <td>1</td>\n",
       "      <td>CO</td>\n",
       "      <td>Grand Junction</td>\n",
       "      <td>19</td>\n",
       "      <td>AGENT00883</td>\n",
       "      <td>VNDR00031</td>\n",
       "    </tr>\n",
       "    <tr>\n",
       "      <th>3</th>\n",
       "      <td>2020-06-01 00:00:00</td>\n",
       "      <td>TXN00000004</td>\n",
       "      <td>A00007572</td>\n",
       "      <td>PLC00009292</td>\n",
       "      <td>2016-11-29</td>\n",
       "      <td>2020-05-14</td>\n",
       "      <td>2020-05-19</td>\n",
       "      <td>Health</td>\n",
       "      <td>172.87</td>\n",
       "      <td>16000</td>\n",
       "      <td>...</td>\n",
       "      <td>A</td>\n",
       "      <td>Minor Loss</td>\n",
       "      <td>Ambulance</td>\n",
       "      <td>0</td>\n",
       "      <td>0</td>\n",
       "      <td>GA</td>\n",
       "      <td>Savannah</td>\n",
       "      <td>12</td>\n",
       "      <td>AGENT00278</td>\n",
       "      <td>VNDR00075</td>\n",
       "    </tr>\n",
       "    <tr>\n",
       "      <th>4</th>\n",
       "      <td>2020-06-01 00:00:00</td>\n",
       "      <td>TXN00000005</td>\n",
       "      <td>A00008173</td>\n",
       "      <td>PLC00000204</td>\n",
       "      <td>2011-12-26</td>\n",
       "      <td>2020-05-17</td>\n",
       "      <td>2020-05-22</td>\n",
       "      <td>Travel</td>\n",
       "      <td>88.53</td>\n",
       "      <td>3000</td>\n",
       "      <td>...</td>\n",
       "      <td>A</td>\n",
       "      <td>Major Loss</td>\n",
       "      <td>Police</td>\n",
       "      <td>0</td>\n",
       "      <td>1</td>\n",
       "      <td>TN</td>\n",
       "      <td>Nashville</td>\n",
       "      <td>18</td>\n",
       "      <td>AGENT00636</td>\n",
       "      <td>VNDR00472</td>\n",
       "    </tr>\n",
       "  </tbody>\n",
       "</table>\n",
       "<p>5 rows × 38 columns</p>\n",
       "</div>"
      ],
      "text/plain": [
       "         TXN_DATE_TIME TRANSACTION_ID CUSTOMER_ID POLICY_NUMBER POLICY_EFF_DT  \\\n",
       "0  2020-06-01 00:00:00    TXN00000001   A00003822   PLC00008468    2015-06-23   \n",
       "1  2020-06-01 00:00:00    TXN00000002   A00008149   PLC00009594    2018-04-21   \n",
       "2  2020-06-01 00:00:00    TXN00000003   A00003172   PLC00007969    2019-10-03   \n",
       "3  2020-06-01 00:00:00    TXN00000004   A00007572   PLC00009292    2016-11-29   \n",
       "4  2020-06-01 00:00:00    TXN00000005   A00008173   PLC00000204    2011-12-26   \n",
       "\n",
       "      LOSS_DT   REPORT_DT INSURANCE_TYPE  PREMIUM_AMOUNT  CLAIM_AMOUNT  ...  \\\n",
       "0  2020-05-16  2020-05-21         Health          157.13          9000  ...   \n",
       "1  2020-05-13  2020-05-18       Property          141.71         26000  ...   \n",
       "2  2020-05-21  2020-05-26       Property          157.24         13000  ...   \n",
       "3  2020-05-14  2020-05-19         Health          172.87         16000  ...   \n",
       "4  2020-05-17  2020-05-22         Travel           88.53          3000  ...   \n",
       "\n",
       "  CLAIM_STATUS INCIDENT_SEVERITY AUTHORITY_CONTACTED ANY_INJURY  \\\n",
       "0            A        Major Loss              Police          0   \n",
       "1            A        Total Loss           Ambulance          1   \n",
       "2            A        Total Loss              Police          0   \n",
       "3            A        Minor Loss           Ambulance          0   \n",
       "4            A        Major Loss              Police          0   \n",
       "\n",
       "  POLICE_REPORT_AVAILABLE  INCIDENT_STATE   INCIDENT_CITY  \\\n",
       "0                       1              GA        Savannah   \n",
       "1                       0              AL      Montgomery   \n",
       "2                       1              CO  Grand Junction   \n",
       "3                       0              GA        Savannah   \n",
       "4                       1              TN       Nashville   \n",
       "\n",
       "  INCIDENT_HOUR_OF_THE_DAY    AGENT_ID  VENDOR_ID  \n",
       "0                        4  AGENT00413  VNDR00556  \n",
       "1                        0  AGENT00769  VNDR00592  \n",
       "2                       19  AGENT00883  VNDR00031  \n",
       "3                       12  AGENT00278  VNDR00075  \n",
       "4                       18  AGENT00636  VNDR00472  \n",
       "\n",
       "[5 rows x 38 columns]"
      ]
     },
     "execution_count": 3,
     "metadata": {},
     "output_type": "execute_result"
    }
   ],
   "source": [
    "insurance_data.head()"
   ]
  },
  {
   "cell_type": "code",
   "execution_count": 4,
   "metadata": {},
   "outputs": [
    {
     "name": "stdout",
     "output_type": "stream",
     "text": [
      "<class 'pandas.core.frame.DataFrame'>\n",
      "RangeIndex: 10000 entries, 0 to 9999\n",
      "Data columns (total 38 columns):\n",
      " #   Column                    Non-Null Count  Dtype  \n",
      "---  ------                    --------------  -----  \n",
      " 0   TXN_DATE_TIME             10000 non-null  object \n",
      " 1   TRANSACTION_ID            10000 non-null  object \n",
      " 2   CUSTOMER_ID               10000 non-null  object \n",
      " 3   POLICY_NUMBER             10000 non-null  object \n",
      " 4   POLICY_EFF_DT             10000 non-null  object \n",
      " 5   LOSS_DT                   10000 non-null  object \n",
      " 6   REPORT_DT                 10000 non-null  object \n",
      " 7   INSURANCE_TYPE            10000 non-null  object \n",
      " 8   PREMIUM_AMOUNT            10000 non-null  float64\n",
      " 9   CLAIM_AMOUNT              10000 non-null  int64  \n",
      " 10  CUSTOMER_NAME             10000 non-null  object \n",
      " 11  ADDRESS_LINE1             10000 non-null  object \n",
      " 12  ADDRESS_LINE2             1495 non-null   object \n",
      " 13  CITY                      9946 non-null   object \n",
      " 14  STATE                     10000 non-null  object \n",
      " 15  POSTAL_CODE               10000 non-null  int64  \n",
      " 16  SSN                       10000 non-null  object \n",
      " 17  MARITAL_STATUS            10000 non-null  object \n",
      " 18  AGE                       10000 non-null  int64  \n",
      " 19  TENURE                    10000 non-null  int64  \n",
      " 20  EMPLOYMENT_STATUS         10000 non-null  object \n",
      " 21  NO_OF_FAMILY_MEMBERS      10000 non-null  int64  \n",
      " 22  RISK_SEGMENTATION         10000 non-null  object \n",
      " 23  HOUSE_TYPE                10000 non-null  object \n",
      " 24  SOCIAL_CLASS              10000 non-null  object \n",
      " 25  ROUTING_NUMBER            10000 non-null  int64  \n",
      " 26  ACCT_NUMBER               10000 non-null  object \n",
      " 27  CUSTOMER_EDUCATION_LEVEL  9471 non-null   object \n",
      " 28  CLAIM_STATUS              10000 non-null  object \n",
      " 29  INCIDENT_SEVERITY         10000 non-null  object \n",
      " 30  AUTHORITY_CONTACTED       10000 non-null  object \n",
      " 31  ANY_INJURY                10000 non-null  int64  \n",
      " 32  POLICE_REPORT_AVAILABLE   10000 non-null  int64  \n",
      " 33  INCIDENT_STATE            10000 non-null  object \n",
      " 34  INCIDENT_CITY             9954 non-null   object \n",
      " 35  INCIDENT_HOUR_OF_THE_DAY  10000 non-null  int64  \n",
      " 36  AGENT_ID                  10000 non-null  object \n",
      " 37  VENDOR_ID                 6755 non-null   object \n",
      "dtypes: float64(1), int64(9), object(28)\n",
      "memory usage: 2.9+ MB\n"
     ]
    }
   ],
   "source": [
    "insurance_data.info()"
   ]
  },
  {
   "cell_type": "code",
   "execution_count": 5,
   "metadata": {},
   "outputs": [
    {
     "data": {
      "text/html": [
       "<div>\n",
       "<style scoped>\n",
       "    .dataframe tbody tr th:only-of-type {\n",
       "        vertical-align: middle;\n",
       "    }\n",
       "\n",
       "    .dataframe tbody tr th {\n",
       "        vertical-align: top;\n",
       "    }\n",
       "\n",
       "    .dataframe thead th {\n",
       "        text-align: right;\n",
       "    }\n",
       "</style>\n",
       "<table border=\"1\" class=\"dataframe\">\n",
       "  <thead>\n",
       "    <tr style=\"text-align: right;\">\n",
       "      <th></th>\n",
       "      <th>AGENT_ID</th>\n",
       "      <th>AGENT_NAME</th>\n",
       "      <th>DATE_OF_JOINING</th>\n",
       "      <th>ADDRESS_LINE1</th>\n",
       "      <th>ADDRESS_LINE2</th>\n",
       "      <th>CITY</th>\n",
       "      <th>STATE</th>\n",
       "      <th>POSTAL_CODE</th>\n",
       "      <th>EMP_ROUTING_NUMBER</th>\n",
       "      <th>EMP_ACCT_NUMBER</th>\n",
       "    </tr>\n",
       "  </thead>\n",
       "  <tbody>\n",
       "    <tr>\n",
       "      <th>0</th>\n",
       "      <td>AGENT00001</td>\n",
       "      <td>Ray Johns</td>\n",
       "      <td>1993-06-05</td>\n",
       "      <td>1402 Maggies Way</td>\n",
       "      <td>NaN</td>\n",
       "      <td>Waterbury Center</td>\n",
       "      <td>VT</td>\n",
       "      <td>5677</td>\n",
       "      <td>34584958</td>\n",
       "      <td>HKUN51252328472585</td>\n",
       "    </tr>\n",
       "    <tr>\n",
       "      <th>1</th>\n",
       "      <td>AGENT00002</td>\n",
       "      <td>Angelo Borjon</td>\n",
       "      <td>2005-12-27</td>\n",
       "      <td>414 Tanya Pass</td>\n",
       "      <td>NaN</td>\n",
       "      <td>Panama City</td>\n",
       "      <td>FL</td>\n",
       "      <td>32404</td>\n",
       "      <td>107363763</td>\n",
       "      <td>OPIS19290040088204</td>\n",
       "    </tr>\n",
       "    <tr>\n",
       "      <th>2</th>\n",
       "      <td>AGENT00003</td>\n",
       "      <td>Candy Spellman</td>\n",
       "      <td>2003-09-02</td>\n",
       "      <td>606 National Street</td>\n",
       "      <td>#306</td>\n",
       "      <td>Fayetteville</td>\n",
       "      <td>AR</td>\n",
       "      <td>72701</td>\n",
       "      <td>81744097</td>\n",
       "      <td>YSCJ67489688482590</td>\n",
       "    </tr>\n",
       "    <tr>\n",
       "      <th>3</th>\n",
       "      <td>AGENT00004</td>\n",
       "      <td>Mary Smith</td>\n",
       "      <td>2004-09-23</td>\n",
       "      <td>235 Hugh Thomas Drive</td>\n",
       "      <td>NaN</td>\n",
       "      <td>Panama City</td>\n",
       "      <td>FL</td>\n",
       "      <td>32404</td>\n",
       "      <td>67563771</td>\n",
       "      <td>ZANG21285355574581</td>\n",
       "    </tr>\n",
       "    <tr>\n",
       "      <th>4</th>\n",
       "      <td>AGENT00005</td>\n",
       "      <td>Mildred Diaz</td>\n",
       "      <td>2011-06-21</td>\n",
       "      <td>3426 Broadview Street</td>\n",
       "      <td>NaN</td>\n",
       "      <td>Montgomery</td>\n",
       "      <td>AL</td>\n",
       "      <td>36110</td>\n",
       "      <td>114951317</td>\n",
       "      <td>DZFS82244494451134</td>\n",
       "    </tr>\n",
       "    <tr>\n",
       "      <th>...</th>\n",
       "      <td>...</td>\n",
       "      <td>...</td>\n",
       "      <td>...</td>\n",
       "      <td>...</td>\n",
       "      <td>...</td>\n",
       "      <td>...</td>\n",
       "      <td>...</td>\n",
       "      <td>...</td>\n",
       "      <td>...</td>\n",
       "      <td>...</td>\n",
       "    </tr>\n",
       "    <tr>\n",
       "      <th>1195</th>\n",
       "      <td>AGENT01196</td>\n",
       "      <td>Myrtle Mccatty</td>\n",
       "      <td>2005-09-14</td>\n",
       "      <td>3553 Brandywine Street Northwest</td>\n",
       "      <td>NaN</td>\n",
       "      <td>Washington</td>\n",
       "      <td>DC</td>\n",
       "      <td>20008</td>\n",
       "      <td>32137938</td>\n",
       "      <td>EWBR19907574832501</td>\n",
       "    </tr>\n",
       "    <tr>\n",
       "      <th>1196</th>\n",
       "      <td>AGENT01197</td>\n",
       "      <td>John Dorsey</td>\n",
       "      <td>1993-12-04</td>\n",
       "      <td>2315 Chestnut Street</td>\n",
       "      <td>NaN</td>\n",
       "      <td>Montgomery</td>\n",
       "      <td>AL</td>\n",
       "      <td>36107</td>\n",
       "      <td>70796687</td>\n",
       "      <td>KGEJ74846009867837</td>\n",
       "    </tr>\n",
       "    <tr>\n",
       "      <th>1197</th>\n",
       "      <td>AGENT01198</td>\n",
       "      <td>Ruth Bigbee</td>\n",
       "      <td>1993-09-05</td>\n",
       "      <td>1983 Reidsville Street</td>\n",
       "      <td>NaN</td>\n",
       "      <td>Annapolis</td>\n",
       "      <td>MD</td>\n",
       "      <td>21401</td>\n",
       "      <td>124993912</td>\n",
       "      <td>RASV88064214164820</td>\n",
       "    </tr>\n",
       "    <tr>\n",
       "      <th>1198</th>\n",
       "      <td>AGENT01199</td>\n",
       "      <td>Tommie Camacho</td>\n",
       "      <td>2004-10-25</td>\n",
       "      <td>5821 Taft Street</td>\n",
       "      <td>NaN</td>\n",
       "      <td>Arvada</td>\n",
       "      <td>CO</td>\n",
       "      <td>80004</td>\n",
       "      <td>19424059</td>\n",
       "      <td>UOFO11656245339211</td>\n",
       "    </tr>\n",
       "    <tr>\n",
       "      <th>1199</th>\n",
       "      <td>AGENT01200</td>\n",
       "      <td>Virginia Stachura</td>\n",
       "      <td>1999-05-25</td>\n",
       "      <td>3579 2nd Avenue</td>\n",
       "      <td>NaN</td>\n",
       "      <td>Edgewater</td>\n",
       "      <td>MD</td>\n",
       "      <td>21037</td>\n",
       "      <td>12226940</td>\n",
       "      <td>ALYY24945545778511</td>\n",
       "    </tr>\n",
       "  </tbody>\n",
       "</table>\n",
       "<p>1200 rows × 10 columns</p>\n",
       "</div>"
      ],
      "text/plain": [
       "        AGENT_ID         AGENT_NAME DATE_OF_JOINING  \\\n",
       "0     AGENT00001          Ray Johns      1993-06-05   \n",
       "1     AGENT00002      Angelo Borjon      2005-12-27   \n",
       "2     AGENT00003     Candy Spellman      2003-09-02   \n",
       "3     AGENT00004         Mary Smith      2004-09-23   \n",
       "4     AGENT00005       Mildred Diaz      2011-06-21   \n",
       "...          ...                ...             ...   \n",
       "1195  AGENT01196     Myrtle Mccatty      2005-09-14   \n",
       "1196  AGENT01197        John Dorsey      1993-12-04   \n",
       "1197  AGENT01198        Ruth Bigbee      1993-09-05   \n",
       "1198  AGENT01199     Tommie Camacho      2004-10-25   \n",
       "1199  AGENT01200  Virginia Stachura      1999-05-25   \n",
       "\n",
       "                         ADDRESS_LINE1 ADDRESS_LINE2              CITY STATE  \\\n",
       "0                     1402 Maggies Way           NaN  Waterbury Center    VT   \n",
       "1                       414 Tanya Pass           NaN       Panama City    FL   \n",
       "2                  606 National Street          #306      Fayetteville    AR   \n",
       "3                235 Hugh Thomas Drive           NaN       Panama City    FL   \n",
       "4                3426 Broadview Street           NaN        Montgomery    AL   \n",
       "...                                ...           ...               ...   ...   \n",
       "1195  3553 Brandywine Street Northwest           NaN        Washington    DC   \n",
       "1196              2315 Chestnut Street           NaN        Montgomery    AL   \n",
       "1197            1983 Reidsville Street           NaN         Annapolis    MD   \n",
       "1198                  5821 Taft Street           NaN            Arvada    CO   \n",
       "1199                   3579 2nd Avenue           NaN         Edgewater    MD   \n",
       "\n",
       "      POSTAL_CODE  EMP_ROUTING_NUMBER     EMP_ACCT_NUMBER  \n",
       "0            5677            34584958  HKUN51252328472585  \n",
       "1           32404           107363763  OPIS19290040088204  \n",
       "2           72701            81744097  YSCJ67489688482590  \n",
       "3           32404            67563771  ZANG21285355574581  \n",
       "4           36110           114951317  DZFS82244494451134  \n",
       "...           ...                 ...                 ...  \n",
       "1195        20008            32137938  EWBR19907574832501  \n",
       "1196        36107            70796687  KGEJ74846009867837  \n",
       "1197        21401           124993912  RASV88064214164820  \n",
       "1198        80004            19424059  UOFO11656245339211  \n",
       "1199        21037            12226940  ALYY24945545778511  \n",
       "\n",
       "[1200 rows x 10 columns]"
      ]
     },
     "execution_count": 5,
     "metadata": {},
     "output_type": "execute_result"
    }
   ],
   "source": [
    "employee_data"
   ]
  },
  {
   "cell_type": "code",
   "execution_count": 6,
   "metadata": {},
   "outputs": [
    {
     "data": {
      "text/html": [
       "<div>\n",
       "<style scoped>\n",
       "    .dataframe tbody tr th:only-of-type {\n",
       "        vertical-align: middle;\n",
       "    }\n",
       "\n",
       "    .dataframe tbody tr th {\n",
       "        vertical-align: top;\n",
       "    }\n",
       "\n",
       "    .dataframe thead th {\n",
       "        text-align: right;\n",
       "    }\n",
       "</style>\n",
       "<table border=\"1\" class=\"dataframe\">\n",
       "  <thead>\n",
       "    <tr style=\"text-align: right;\">\n",
       "      <th></th>\n",
       "      <th>VENDOR_ID</th>\n",
       "      <th>VENDOR_NAME</th>\n",
       "      <th>ADDRESS_LINE1</th>\n",
       "      <th>ADDRESS_LINE2</th>\n",
       "      <th>CITY</th>\n",
       "      <th>STATE</th>\n",
       "      <th>POSTAL_CODE</th>\n",
       "    </tr>\n",
       "  </thead>\n",
       "  <tbody>\n",
       "    <tr>\n",
       "      <th>0</th>\n",
       "      <td>VNDR00001</td>\n",
       "      <td>King, Proctor and Jones</td>\n",
       "      <td>2027 North Shannon Drive</td>\n",
       "      <td>#5</td>\n",
       "      <td>Fayetteville</td>\n",
       "      <td>AR</td>\n",
       "      <td>72703</td>\n",
       "    </tr>\n",
       "    <tr>\n",
       "      <th>1</th>\n",
       "      <td>VNDR00002</td>\n",
       "      <td>Garcia Ltd</td>\n",
       "      <td>5701 East Shirley Lane</td>\n",
       "      <td>NaN</td>\n",
       "      <td>Montgomery</td>\n",
       "      <td>AL</td>\n",
       "      <td>36117</td>\n",
       "    </tr>\n",
       "    <tr>\n",
       "      <th>2</th>\n",
       "      <td>VNDR00003</td>\n",
       "      <td>Cherry LLC</td>\n",
       "      <td>1217 Cottondale Road</td>\n",
       "      <td>NaN</td>\n",
       "      <td>Montgomery</td>\n",
       "      <td>AL</td>\n",
       "      <td>36109</td>\n",
       "    </tr>\n",
       "    <tr>\n",
       "      <th>3</th>\n",
       "      <td>VNDR00004</td>\n",
       "      <td>Mays-Benson</td>\n",
       "      <td>227 West Montgomery Cross Road</td>\n",
       "      <td>#736</td>\n",
       "      <td>Savannah</td>\n",
       "      <td>GA</td>\n",
       "      <td>31406</td>\n",
       "    </tr>\n",
       "    <tr>\n",
       "      <th>4</th>\n",
       "      <td>VNDR00005</td>\n",
       "      <td>Wilson PLC</td>\n",
       "      <td>23 North Hill Street</td>\n",
       "      <td>NaN</td>\n",
       "      <td>Nashville</td>\n",
       "      <td>TN</td>\n",
       "      <td>37210</td>\n",
       "    </tr>\n",
       "    <tr>\n",
       "      <th>...</th>\n",
       "      <td>...</td>\n",
       "      <td>...</td>\n",
       "      <td>...</td>\n",
       "      <td>...</td>\n",
       "      <td>...</td>\n",
       "      <td>...</td>\n",
       "      <td>...</td>\n",
       "    </tr>\n",
       "    <tr>\n",
       "      <th>595</th>\n",
       "      <td>VNDR00596</td>\n",
       "      <td>Rhodes-Mendez</td>\n",
       "      <td>1689 Fisher Pond Road</td>\n",
       "      <td>NaN</td>\n",
       "      <td>Saint Albans City</td>\n",
       "      <td>VT</td>\n",
       "      <td>5478</td>\n",
       "    </tr>\n",
       "    <tr>\n",
       "      <th>596</th>\n",
       "      <td>VNDR00597</td>\n",
       "      <td>Ortiz-Donovan</td>\n",
       "      <td>140 South Hill Avenue</td>\n",
       "      <td>#305</td>\n",
       "      <td>Fayetteville</td>\n",
       "      <td>AR</td>\n",
       "      <td>72701</td>\n",
       "    </tr>\n",
       "    <tr>\n",
       "      <th>597</th>\n",
       "      <td>VNDR00598</td>\n",
       "      <td>Newton, Hodges and Henry</td>\n",
       "      <td>32512 Christine Drive</td>\n",
       "      <td>NaN</td>\n",
       "      <td>Union City</td>\n",
       "      <td>CA</td>\n",
       "      <td>94587</td>\n",
       "    </tr>\n",
       "    <tr>\n",
       "      <th>598</th>\n",
       "      <td>VNDR00599</td>\n",
       "      <td>Reeves-Leonard</td>\n",
       "      <td>12420 West Montebello Avenue</td>\n",
       "      <td>NaN</td>\n",
       "      <td>Litchfield Park</td>\n",
       "      <td>AZ</td>\n",
       "      <td>85340</td>\n",
       "    </tr>\n",
       "    <tr>\n",
       "      <th>599</th>\n",
       "      <td>VNDR00600</td>\n",
       "      <td>Jacobs, Fox and Torres</td>\n",
       "      <td>2426 East Onyx Trail</td>\n",
       "      <td>#6</td>\n",
       "      <td>Fayetteville</td>\n",
       "      <td>AR</td>\n",
       "      <td>72701</td>\n",
       "    </tr>\n",
       "  </tbody>\n",
       "</table>\n",
       "<p>600 rows × 7 columns</p>\n",
       "</div>"
      ],
      "text/plain": [
       "     VENDOR_ID               VENDOR_NAME                   ADDRESS_LINE1  \\\n",
       "0    VNDR00001   King, Proctor and Jones        2027 North Shannon Drive   \n",
       "1    VNDR00002                Garcia Ltd          5701 East Shirley Lane   \n",
       "2    VNDR00003                Cherry LLC            1217 Cottondale Road   \n",
       "3    VNDR00004               Mays-Benson  227 West Montgomery Cross Road   \n",
       "4    VNDR00005                Wilson PLC            23 North Hill Street   \n",
       "..         ...                       ...                             ...   \n",
       "595  VNDR00596             Rhodes-Mendez           1689 Fisher Pond Road   \n",
       "596  VNDR00597             Ortiz-Donovan           140 South Hill Avenue   \n",
       "597  VNDR00598  Newton, Hodges and Henry           32512 Christine Drive   \n",
       "598  VNDR00599            Reeves-Leonard    12420 West Montebello Avenue   \n",
       "599  VNDR00600    Jacobs, Fox and Torres            2426 East Onyx Trail   \n",
       "\n",
       "    ADDRESS_LINE2               CITY STATE  POSTAL_CODE  \n",
       "0              #5       Fayetteville    AR        72703  \n",
       "1             NaN         Montgomery    AL        36117  \n",
       "2             NaN         Montgomery    AL        36109  \n",
       "3            #736           Savannah    GA        31406  \n",
       "4             NaN          Nashville    TN        37210  \n",
       "..            ...                ...   ...          ...  \n",
       "595           NaN  Saint Albans City    VT         5478  \n",
       "596          #305       Fayetteville    AR        72701  \n",
       "597           NaN         Union City    CA        94587  \n",
       "598           NaN    Litchfield Park    AZ        85340  \n",
       "599            #6       Fayetteville    AR        72701  \n",
       "\n",
       "[600 rows x 7 columns]"
      ]
     },
     "execution_count": 6,
     "metadata": {},
     "output_type": "execute_result"
    }
   ],
   "source": [
    "vendor_data"
   ]
  },
  {
   "cell_type": "markdown",
   "metadata": {},
   "source": [
    "## Task 1"
   ]
  },
  {
   "cell_type": "code",
   "execution_count": 113,
   "metadata": {},
   "outputs": [],
   "source": [
    "### Merge the 3 dataset and create 1 view of data.\n",
    "### You can merge insurance_data.csv and employee_data.csv on\n",
    "### AGENT_ID You can merge insurance_data.csv and vendor_data.csv on\n",
    "### VENDOR_ID Note: Use left Outer join as not all claims require Vendor"
   ]
  },
  {
   "cell_type": "code",
   "execution_count": 8,
   "metadata": {},
   "outputs": [],
   "source": [
    "all_data = pd.merge(insurance_data,employee_data, on='AGENT_ID', how='left', suffixes= ('_CUSTOMER','_AGENT'))"
   ]
  },
  {
   "cell_type": "code",
   "execution_count": 9,
   "metadata": {},
   "outputs": [],
   "source": [
    "all_data1 = pd.merge(all_data,vendor_data, on ='VENDOR_ID', how='left')"
   ]
  },
  {
   "cell_type": "code",
   "execution_count": 10,
   "metadata": {},
   "outputs": [
    {
     "name": "stdout",
     "output_type": "stream",
     "text": [
      "<class 'pandas.core.frame.DataFrame'>\n",
      "Int64Index: 10000 entries, 0 to 9999\n",
      "Data columns (total 53 columns):\n",
      " #   Column                    Non-Null Count  Dtype  \n",
      "---  ------                    --------------  -----  \n",
      " 0   TXN_DATE_TIME             10000 non-null  object \n",
      " 1   TRANSACTION_ID            10000 non-null  object \n",
      " 2   CUSTOMER_ID               10000 non-null  object \n",
      " 3   POLICY_NUMBER             10000 non-null  object \n",
      " 4   POLICY_EFF_DT             10000 non-null  object \n",
      " 5   LOSS_DT                   10000 non-null  object \n",
      " 6   REPORT_DT                 10000 non-null  object \n",
      " 7   INSURANCE_TYPE            10000 non-null  object \n",
      " 8   PREMIUM_AMOUNT            10000 non-null  float64\n",
      " 9   CLAIM_AMOUNT              10000 non-null  int64  \n",
      " 10  CUSTOMER_NAME             10000 non-null  object \n",
      " 11  ADDRESS_LINE1_CUSTOMER    10000 non-null  object \n",
      " 12  ADDRESS_LINE2_CUSTOMER    1495 non-null   object \n",
      " 13  CITY_CUSTOMER             9946 non-null   object \n",
      " 14  STATE_CUSTOMER            10000 non-null  object \n",
      " 15  POSTAL_CODE_CUSTOMER      10000 non-null  int64  \n",
      " 16  SSN                       10000 non-null  object \n",
      " 17  MARITAL_STATUS            10000 non-null  object \n",
      " 18  AGE                       10000 non-null  int64  \n",
      " 19  TENURE                    10000 non-null  int64  \n",
      " 20  EMPLOYMENT_STATUS         10000 non-null  object \n",
      " 21  NO_OF_FAMILY_MEMBERS      10000 non-null  int64  \n",
      " 22  RISK_SEGMENTATION         10000 non-null  object \n",
      " 23  HOUSE_TYPE                10000 non-null  object \n",
      " 24  SOCIAL_CLASS              10000 non-null  object \n",
      " 25  ROUTING_NUMBER            10000 non-null  int64  \n",
      " 26  ACCT_NUMBER               10000 non-null  object \n",
      " 27  CUSTOMER_EDUCATION_LEVEL  9471 non-null   object \n",
      " 28  CLAIM_STATUS              10000 non-null  object \n",
      " 29  INCIDENT_SEVERITY         10000 non-null  object \n",
      " 30  AUTHORITY_CONTACTED       10000 non-null  object \n",
      " 31  ANY_INJURY                10000 non-null  int64  \n",
      " 32  POLICE_REPORT_AVAILABLE   10000 non-null  int64  \n",
      " 33  INCIDENT_STATE            10000 non-null  object \n",
      " 34  INCIDENT_CITY             9954 non-null   object \n",
      " 35  INCIDENT_HOUR_OF_THE_DAY  10000 non-null  int64  \n",
      " 36  AGENT_ID                  10000 non-null  object \n",
      " 37  VENDOR_ID                 6755 non-null   object \n",
      " 38  AGENT_NAME                10000 non-null  object \n",
      " 39  DATE_OF_JOINING           10000 non-null  object \n",
      " 40  ADDRESS_LINE1_AGENT       10000 non-null  object \n",
      " 41  ADDRESS_LINE2_AGENT       1451 non-null   object \n",
      " 42  CITY_AGENT                9946 non-null   object \n",
      " 43  STATE_AGENT               10000 non-null  object \n",
      " 44  POSTAL_CODE_AGENT         10000 non-null  int64  \n",
      " 45  EMP_ROUTING_NUMBER        10000 non-null  int64  \n",
      " 46  EMP_ACCT_NUMBER           10000 non-null  object \n",
      " 47  VENDOR_NAME               6755 non-null   object \n",
      " 48  ADDRESS_LINE1             6755 non-null   object \n",
      " 49  ADDRESS_LINE2             1145 non-null   object \n",
      " 50  CITY                      6713 non-null   object \n",
      " 51  STATE                     6755 non-null   object \n",
      " 52  POSTAL_CODE               6755 non-null   float64\n",
      "dtypes: float64(2), int64(11), object(40)\n",
      "memory usage: 4.1+ MB\n"
     ]
    }
   ],
   "source": [
    "all_data1.info()"
   ]
  },
  {
   "cell_type": "markdown",
   "metadata": {},
   "source": [
    "### TASK 2"
   ]
  },
  {
   "cell_type": "code",
   "execution_count": 114,
   "metadata": {},
   "outputs": [],
   "source": [
    "### Business Leader wants to find Top 3 Insurance Type where we are getting most insurance claims?"
   ]
  },
  {
   "cell_type": "code",
   "execution_count": 11,
   "metadata": {},
   "outputs": [
    {
     "data": {
      "text/plain": [
       "Property    1692\n",
       "Mobile      1692\n",
       "Health      1690\n",
       "Name: INSURANCE_TYPE, dtype: int64"
      ]
     },
     "execution_count": 11,
     "metadata": {},
     "output_type": "execute_result"
    }
   ],
   "source": [
    "insurance_data['INSURANCE_TYPE'].value_counts()[:3]"
   ]
  },
  {
   "cell_type": "markdown",
   "metadata": {},
   "source": [
    "### TASK 3"
   ]
  },
  {
   "cell_type": "code",
   "execution_count": null,
   "metadata": {},
   "outputs": [],
   "source": [
    "# Business Leader wants to find Top 5 States where we are getting most insurance claims for customer belonging to HIGH(H) risk segment?"
   ]
  },
  {
   "cell_type": "code",
   "execution_count": 12,
   "metadata": {},
   "outputs": [
    {
     "data": {
      "text/plain": [
       "CA    148\n",
       "AZ    105\n",
       "FL    104\n",
       "TN    100\n",
       "AR     97\n",
       "Name: STATE, dtype: int64"
      ]
     },
     "execution_count": 12,
     "metadata": {},
     "output_type": "execute_result"
    }
   ],
   "source": [
    "insurance_data[insurance_data['RISK_SEGMENTATION']=='H'].STATE.value_counts()[:5]"
   ]
  },
  {
   "cell_type": "code",
   "execution_count": 13,
   "metadata": {},
   "outputs": [
    {
     "data": {
      "text/plain": [
       "Index(['TXN_DATE_TIME', 'TRANSACTION_ID', 'CUSTOMER_ID', 'POLICY_NUMBER',\n",
       "       'POLICY_EFF_DT', 'LOSS_DT', 'REPORT_DT', 'INSURANCE_TYPE',\n",
       "       'PREMIUM_AMOUNT', 'CLAIM_AMOUNT', 'CUSTOMER_NAME',\n",
       "       'ADDRESS_LINE1_CUSTOMER', 'ADDRESS_LINE2_CUSTOMER', 'CITY_CUSTOMER',\n",
       "       'STATE_CUSTOMER', 'POSTAL_CODE_CUSTOMER', 'SSN', 'MARITAL_STATUS',\n",
       "       'AGE', 'TENURE', 'EMPLOYMENT_STATUS', 'NO_OF_FAMILY_MEMBERS',\n",
       "       'RISK_SEGMENTATION', 'HOUSE_TYPE', 'SOCIAL_CLASS', 'ROUTING_NUMBER',\n",
       "       'ACCT_NUMBER', 'CUSTOMER_EDUCATION_LEVEL', 'CLAIM_STATUS',\n",
       "       'INCIDENT_SEVERITY', 'AUTHORITY_CONTACTED', 'ANY_INJURY',\n",
       "       'POLICE_REPORT_AVAILABLE', 'INCIDENT_STATE', 'INCIDENT_CITY',\n",
       "       'INCIDENT_HOUR_OF_THE_DAY', 'AGENT_ID', 'VENDOR_ID', 'AGENT_NAME',\n",
       "       'DATE_OF_JOINING', 'ADDRESS_LINE1_AGENT', 'ADDRESS_LINE2_AGENT',\n",
       "       'CITY_AGENT', 'STATE_AGENT', 'POSTAL_CODE_AGENT', 'EMP_ROUTING_NUMBER',\n",
       "       'EMP_ACCT_NUMBER', 'VENDOR_NAME', 'ADDRESS_LINE1', 'ADDRESS_LINE2',\n",
       "       'CITY', 'STATE', 'POSTAL_CODE'],\n",
       "      dtype='object')"
      ]
     },
     "execution_count": 13,
     "metadata": {},
     "output_type": "execute_result"
    }
   ],
   "source": [
    "all_data1.columns"
   ]
  },
  {
   "cell_type": "code",
   "execution_count": 14,
   "metadata": {},
   "outputs": [
    {
     "data": {
      "text/plain": [
       "0       AZ\n",
       "1       CO\n",
       "2       CA\n",
       "3       GA\n",
       "4       CA\n",
       "        ..\n",
       "9995    CT\n",
       "9996    AR\n",
       "9997    AK\n",
       "9998    CA\n",
       "9999    OK\n",
       "Name: STATE_CUSTOMER, Length: 10000, dtype: object"
      ]
     },
     "execution_count": 14,
     "metadata": {},
     "output_type": "execute_result"
    }
   ],
   "source": [
    "all_data1['STATE_CUSTOMER']"
   ]
  },
  {
   "cell_type": "markdown",
   "metadata": {},
   "source": [
    "### TASK 4"
   ]
  },
  {
   "cell_type": "code",
   "execution_count": null,
   "metadata": {},
   "outputs": [],
   "source": [
    "# Business wants to create a new variable “COLOCATION” which will have following values IF Customer State == Incident State == Agent Address State \n",
    "# THEN 1 ELSE 0 Find the mean of this new column"
   ]
  },
  {
   "cell_type": "code",
   "execution_count": 15,
   "metadata": {},
   "outputs": [],
   "source": [
    "all_data1['COLOCATION'] =  (all_data1['STATE_CUSTOMER'] == all_data1['INCIDENT_STATE']) & (all_data1['INCIDENT_STATE']== all_data1['STATE_AGENT'])"
   ]
  },
  {
   "cell_type": "code",
   "execution_count": 16,
   "metadata": {},
   "outputs": [
    {
     "data": {
      "text/plain": [
       "0.0044"
      ]
     },
     "execution_count": 16,
     "metadata": {},
     "output_type": "execute_result"
    }
   ],
   "source": [
    "all_data1['COLOCATION']= all_data1.COLOCATION.astype('int')\n",
    "all_data1['COLOCATION'].mean()"
   ]
  },
  {
   "cell_type": "markdown",
   "metadata": {},
   "source": [
    "### TASK 5"
   ]
  },
  {
   "cell_type": "code",
   "execution_count": null,
   "metadata": {},
   "outputs": [],
   "source": [
    "# Data entry error was detected in the data and you are required to correct it. If for any\n",
    "# claim transaction “AUTHORITY_CONTACTED” is NOT “Police” and POLICE_AVAILABLE == 1\n",
    "# Then Update “AUTHORITY_CONTACTED” to Police."
   ]
  },
  {
   "cell_type": "code",
   "execution_count": 17,
   "metadata": {},
   "outputs": [
    {
     "data": {
      "text/plain": [
       "Index(['TXN_DATE_TIME', 'TRANSACTION_ID', 'CUSTOMER_ID', 'POLICY_NUMBER',\n",
       "       'POLICY_EFF_DT', 'LOSS_DT', 'REPORT_DT', 'INSURANCE_TYPE',\n",
       "       'PREMIUM_AMOUNT', 'CLAIM_AMOUNT', 'CUSTOMER_NAME',\n",
       "       'ADDRESS_LINE1_CUSTOMER', 'ADDRESS_LINE2_CUSTOMER', 'CITY_CUSTOMER',\n",
       "       'STATE_CUSTOMER', 'POSTAL_CODE_CUSTOMER', 'SSN', 'MARITAL_STATUS',\n",
       "       'AGE', 'TENURE', 'EMPLOYMENT_STATUS', 'NO_OF_FAMILY_MEMBERS',\n",
       "       'RISK_SEGMENTATION', 'HOUSE_TYPE', 'SOCIAL_CLASS', 'ROUTING_NUMBER',\n",
       "       'ACCT_NUMBER', 'CUSTOMER_EDUCATION_LEVEL', 'CLAIM_STATUS',\n",
       "       'INCIDENT_SEVERITY', 'AUTHORITY_CONTACTED', 'ANY_INJURY',\n",
       "       'POLICE_REPORT_AVAILABLE', 'INCIDENT_STATE', 'INCIDENT_CITY',\n",
       "       'INCIDENT_HOUR_OF_THE_DAY', 'AGENT_ID', 'VENDOR_ID', 'AGENT_NAME',\n",
       "       'DATE_OF_JOINING', 'ADDRESS_LINE1_AGENT', 'ADDRESS_LINE2_AGENT',\n",
       "       'CITY_AGENT', 'STATE_AGENT', 'POSTAL_CODE_AGENT', 'EMP_ROUTING_NUMBER',\n",
       "       'EMP_ACCT_NUMBER', 'VENDOR_NAME', 'ADDRESS_LINE1', 'ADDRESS_LINE2',\n",
       "       'CITY', 'STATE', 'POSTAL_CODE', 'COLOCATION'],\n",
       "      dtype='object')"
      ]
     },
     "execution_count": 17,
     "metadata": {},
     "output_type": "execute_result"
    }
   ],
   "source": [
    "all_data1.columns"
   ]
  },
  {
   "cell_type": "code",
   "execution_count": 18,
   "metadata": {},
   "outputs": [],
   "source": [
    "not_police = all_data1[all_data1['AUTHORITY_CONTACTED'] != 'Police']"
   ]
  },
  {
   "cell_type": "code",
   "execution_count": 19,
   "metadata": {},
   "outputs": [],
   "source": [
    "r_update = not_police[not_police['POLICE_REPORT_AVAILABLE']==1].index"
   ]
  },
  {
   "cell_type": "code",
   "execution_count": 20,
   "metadata": {},
   "outputs": [],
   "source": [
    "all_data1.loc[r_update,'AUTHORITY_CONTACTED'] = 'Police'"
   ]
  },
  {
   "cell_type": "code",
   "execution_count": 21,
   "metadata": {},
   "outputs": [
    {
     "data": {
      "text/html": [
       "<div>\n",
       "<style scoped>\n",
       "    .dataframe tbody tr th:only-of-type {\n",
       "        vertical-align: middle;\n",
       "    }\n",
       "\n",
       "    .dataframe tbody tr th {\n",
       "        vertical-align: top;\n",
       "    }\n",
       "\n",
       "    .dataframe thead th {\n",
       "        text-align: right;\n",
       "    }\n",
       "</style>\n",
       "<table border=\"1\" class=\"dataframe\">\n",
       "  <thead>\n",
       "    <tr style=\"text-align: right;\">\n",
       "      <th></th>\n",
       "      <th>TXN_DATE_TIME</th>\n",
       "      <th>TRANSACTION_ID</th>\n",
       "      <th>CUSTOMER_ID</th>\n",
       "      <th>POLICY_NUMBER</th>\n",
       "      <th>POLICY_EFF_DT</th>\n",
       "      <th>LOSS_DT</th>\n",
       "      <th>REPORT_DT</th>\n",
       "      <th>INSURANCE_TYPE</th>\n",
       "      <th>PREMIUM_AMOUNT</th>\n",
       "      <th>CLAIM_AMOUNT</th>\n",
       "      <th>...</th>\n",
       "      <th>POSTAL_CODE_AGENT</th>\n",
       "      <th>EMP_ROUTING_NUMBER</th>\n",
       "      <th>EMP_ACCT_NUMBER</th>\n",
       "      <th>VENDOR_NAME</th>\n",
       "      <th>ADDRESS_LINE1</th>\n",
       "      <th>ADDRESS_LINE2</th>\n",
       "      <th>CITY</th>\n",
       "      <th>STATE</th>\n",
       "      <th>POSTAL_CODE</th>\n",
       "      <th>COLOCATION</th>\n",
       "    </tr>\n",
       "  </thead>\n",
       "  <tbody>\n",
       "  </tbody>\n",
       "</table>\n",
       "<p>0 rows × 54 columns</p>\n",
       "</div>"
      ],
      "text/plain": [
       "Empty DataFrame\n",
       "Columns: [TXN_DATE_TIME, TRANSACTION_ID, CUSTOMER_ID, POLICY_NUMBER, POLICY_EFF_DT, LOSS_DT, REPORT_DT, INSURANCE_TYPE, PREMIUM_AMOUNT, CLAIM_AMOUNT, CUSTOMER_NAME, ADDRESS_LINE1_CUSTOMER, ADDRESS_LINE2_CUSTOMER, CITY_CUSTOMER, STATE_CUSTOMER, POSTAL_CODE_CUSTOMER, SSN, MARITAL_STATUS, AGE, TENURE, EMPLOYMENT_STATUS, NO_OF_FAMILY_MEMBERS, RISK_SEGMENTATION, HOUSE_TYPE, SOCIAL_CLASS, ROUTING_NUMBER, ACCT_NUMBER, CUSTOMER_EDUCATION_LEVEL, CLAIM_STATUS, INCIDENT_SEVERITY, AUTHORITY_CONTACTED, ANY_INJURY, POLICE_REPORT_AVAILABLE, INCIDENT_STATE, INCIDENT_CITY, INCIDENT_HOUR_OF_THE_DAY, AGENT_ID, VENDOR_ID, AGENT_NAME, DATE_OF_JOINING, ADDRESS_LINE1_AGENT, ADDRESS_LINE2_AGENT, CITY_AGENT, STATE_AGENT, POSTAL_CODE_AGENT, EMP_ROUTING_NUMBER, EMP_ACCT_NUMBER, VENDOR_NAME, ADDRESS_LINE1, ADDRESS_LINE2, CITY, STATE, POSTAL_CODE, COLOCATION]\n",
       "Index: []\n",
       "\n",
       "[0 rows x 54 columns]"
      ]
     },
     "execution_count": 21,
     "metadata": {},
     "output_type": "execute_result"
    }
   ],
   "source": [
    "all_data1[(all_data1['POLICE_REPORT_AVAILABLE']==1) & (all_data1['AUTHORITY_CONTACTED']!= 'Police')]"
   ]
  },
  {
   "cell_type": "markdown",
   "metadata": {},
   "source": [
    "### TASK 6"
   ]
  },
  {
   "cell_type": "code",
   "execution_count": null,
   "metadata": {},
   "outputs": [],
   "source": [
    "# Business wants to check the Claim Amount for deviation for each transaction, they would\n",
    "# like you to calculate as follow\n",
    "# CLAIM_DEVIATION = AVG_CLAIM_AMOUNT_FOR_LAST_30DAYS (same insurance type)/ CURRENT_CLAIM_AMOUNT\n",
    "# If the value < 0.5 THEN CLAIM_DEVIATION = 1 ELSE 0\n",
    "# If there is less than 30 days of transaction history THEN -1 Note: LAST_30DAYS does not include current day"
   ]
  },
  {
   "cell_type": "code",
   "execution_count": 22,
   "metadata": {},
   "outputs": [
    {
     "data": {
      "text/plain": [
       "'2021-06-30 00:00:00'"
      ]
     },
     "execution_count": 22,
     "metadata": {},
     "output_type": "execute_result"
    }
   ],
   "source": [
    "all_data1.TXN_DATE_TIME.max()"
   ]
  },
  {
   "cell_type": "code",
   "execution_count": 23,
   "metadata": {},
   "outputs": [],
   "source": [
    "latest_date = pd.to_datetime('2021-06-30')"
   ]
  },
  {
   "cell_type": "code",
   "execution_count": 24,
   "metadata": {},
   "outputs": [],
   "source": [
    "all_data1['TXN_DATE_TIME'] = pd.to_datetime(all_data1['TXN_DATE_TIME'])"
   ]
  },
  {
   "cell_type": "code",
   "execution_count": 25,
   "metadata": {},
   "outputs": [],
   "source": [
    " last_30days = all_data1[(all_data1['TXN_DATE_TIME'] > '2021-05-30') & (all_data1['TXN_DATE_TIME'] < '2021-06-30')]"
   ]
  },
  {
   "cell_type": "code",
   "execution_count": 26,
   "metadata": {},
   "outputs": [],
   "source": [
    "avg_claim_amount = last_30days.groupby('INSURANCE_TYPE').mean()['CLAIM_AMOUNT'].to_dict()"
   ]
  },
  {
   "cell_type": "code",
   "execution_count": 115,
   "metadata": {},
   "outputs": [],
   "source": [
    "def claim_dev(row):\n",
    "    if (latest_date - row['TXN_DATE_TIME'])<pd.Timedelta(days=30):\n",
    "        return -1\n",
    "    claim_deviation = avg_claim_amount[row['INSURANCE_TYPE']] / row['CLAIM_AMOUNT']\n",
    "    if claim_deviation < 0.5:\n",
    "        return 1\n",
    "    else:\n",
    "        return 0"
   ]
  },
  {
   "cell_type": "code",
   "execution_count": 116,
   "metadata": {},
   "outputs": [],
   "source": [
    "all_data1['CLAIM_DEVIATION'] = all_data1.apply(claim_dev,axis=1)"
   ]
  },
  {
   "cell_type": "code",
   "execution_count": 117,
   "metadata": {},
   "outputs": [
    {
     "data": {
      "text/plain": [
       " 0    9216\n",
       "-1     784\n",
       "Name: CLAIM_DEVIATION, dtype: int64"
      ]
     },
     "execution_count": 117,
     "metadata": {},
     "output_type": "execute_result"
    }
   ],
   "source": [
    "all_data1.CLAIM_DEVIATION.value_counts()"
   ]
  },
  {
   "cell_type": "markdown",
   "metadata": {},
   "source": [
    "### TASK 7"
   ]
  },
  {
   "cell_type": "code",
   "execution_count": null,
   "metadata": {},
   "outputs": [],
   "source": [
    "# Find All Agents who have worked on more than 2 types of Insurance Claims. Sort them by\n",
    "# Total Claim Amount Approved under them in descending order\n"
   ]
  },
  {
   "cell_type": "code",
   "execution_count": 30,
   "metadata": {},
   "outputs": [],
   "source": [
    "agent_count= all_data1.groupby('AGENT_ID')['INSURANCE_TYPE'].nunique()"
   ]
  },
  {
   "cell_type": "code",
   "execution_count": 31,
   "metadata": {},
   "outputs": [],
   "source": [
    "ins_type =agent_count >2"
   ]
  },
  {
   "cell_type": "code",
   "execution_count": 32,
   "metadata": {},
   "outputs": [],
   "source": [
    "agent_types = ins_type[ins_type].index"
   ]
  },
  {
   "cell_type": "code",
   "execution_count": 33,
   "metadata": {},
   "outputs": [],
   "source": [
    "top_agent_types =  all_data1.groupby(['AGENT_ID','AGENT_NAME']).sum().loc[agent_types][['CLAIM_AMOUNT']].sort_values('CLAIM_AMOUNT', ascending = False)"
   ]
  },
  {
   "cell_type": "code",
   "execution_count": 34,
   "metadata": {},
   "outputs": [
    {
     "data": {
      "text/html": [
       "<div>\n",
       "<style scoped>\n",
       "    .dataframe tbody tr th:only-of-type {\n",
       "        vertical-align: middle;\n",
       "    }\n",
       "\n",
       "    .dataframe tbody tr th {\n",
       "        vertical-align: top;\n",
       "    }\n",
       "\n",
       "    .dataframe thead th {\n",
       "        text-align: right;\n",
       "    }\n",
       "</style>\n",
       "<table border=\"1\" class=\"dataframe\">\n",
       "  <thead>\n",
       "    <tr style=\"text-align: right;\">\n",
       "      <th></th>\n",
       "      <th></th>\n",
       "      <th>CLAIM_AMOUNT</th>\n",
       "    </tr>\n",
       "    <tr>\n",
       "      <th>AGENT_ID</th>\n",
       "      <th>AGENT_NAME</th>\n",
       "      <th></th>\n",
       "    </tr>\n",
       "  </thead>\n",
       "  <tbody>\n",
       "    <tr>\n",
       "      <th>AGENT00807</th>\n",
       "      <th>Don Filkins</th>\n",
       "      <td>528800</td>\n",
       "    </tr>\n",
       "    <tr>\n",
       "      <th>AGENT00679</th>\n",
       "      <th>Clara Barnett</th>\n",
       "      <td>489000</td>\n",
       "    </tr>\n",
       "    <tr>\n",
       "      <th>AGENT00771</th>\n",
       "      <th>Roger Burns</th>\n",
       "      <td>422100</td>\n",
       "    </tr>\n",
       "    <tr>\n",
       "      <th>AGENT00125</th>\n",
       "      <th>Salvador Soriano</th>\n",
       "      <td>400400</td>\n",
       "    </tr>\n",
       "    <tr>\n",
       "      <th>AGENT00789</th>\n",
       "      <th>Alison Baron</th>\n",
       "      <td>392900</td>\n",
       "    </tr>\n",
       "    <tr>\n",
       "      <th>...</th>\n",
       "      <th>...</th>\n",
       "      <td>...</td>\n",
       "    </tr>\n",
       "    <tr>\n",
       "      <th>AGENT00910</th>\n",
       "      <th>Vincent Ragan</th>\n",
       "      <td>15500</td>\n",
       "    </tr>\n",
       "    <tr>\n",
       "      <th>AGENT00689</th>\n",
       "      <th>Connie Hunt</th>\n",
       "      <td>13700</td>\n",
       "    </tr>\n",
       "    <tr>\n",
       "      <th>AGENT00732</th>\n",
       "      <th>Sylvia Tran</th>\n",
       "      <td>11300</td>\n",
       "    </tr>\n",
       "    <tr>\n",
       "      <th>AGENT00706</th>\n",
       "      <th>Laura Staggs</th>\n",
       "      <td>10800</td>\n",
       "    </tr>\n",
       "    <tr>\n",
       "      <th>AGENT00604</th>\n",
       "      <th>Thelma Salinas</th>\n",
       "      <td>5500</td>\n",
       "    </tr>\n",
       "  </tbody>\n",
       "</table>\n",
       "<p>1164 rows × 1 columns</p>\n",
       "</div>"
      ],
      "text/plain": [
       "                             CLAIM_AMOUNT\n",
       "AGENT_ID   AGENT_NAME                    \n",
       "AGENT00807 Don Filkins             528800\n",
       "AGENT00679 Clara Barnett           489000\n",
       "AGENT00771 Roger Burns             422100\n",
       "AGENT00125 Salvador Soriano        400400\n",
       "AGENT00789 Alison Baron            392900\n",
       "...                                   ...\n",
       "AGENT00910 Vincent Ragan            15500\n",
       "AGENT00689 Connie Hunt              13700\n",
       "AGENT00732 Sylvia Tran              11300\n",
       "AGENT00706 Laura Staggs             10800\n",
       "AGENT00604 Thelma Salinas            5500\n",
       "\n",
       "[1164 rows x 1 columns]"
      ]
     },
     "execution_count": 34,
     "metadata": {},
     "output_type": "execute_result"
    }
   ],
   "source": [
    "top_agent_types"
   ]
  },
  {
   "cell_type": "code",
   "execution_count": 35,
   "metadata": {},
   "outputs": [
    {
     "data": {
      "text/html": [
       "<div>\n",
       "<style scoped>\n",
       "    .dataframe tbody tr th:only-of-type {\n",
       "        vertical-align: middle;\n",
       "    }\n",
       "\n",
       "    .dataframe tbody tr th {\n",
       "        vertical-align: top;\n",
       "    }\n",
       "\n",
       "    .dataframe thead th {\n",
       "        text-align: right;\n",
       "    }\n",
       "</style>\n",
       "<table border=\"1\" class=\"dataframe\">\n",
       "  <thead>\n",
       "    <tr style=\"text-align: right;\">\n",
       "      <th></th>\n",
       "      <th></th>\n",
       "      <th>CLAIM_AMOUNT</th>\n",
       "      <th>INSURANCE_TYPE</th>\n",
       "    </tr>\n",
       "    <tr>\n",
       "      <th>AGENT_ID</th>\n",
       "      <th>AGENT_NAME</th>\n",
       "      <th></th>\n",
       "      <th></th>\n",
       "    </tr>\n",
       "  </thead>\n",
       "  <tbody>\n",
       "    <tr>\n",
       "      <th>AGENT00807</th>\n",
       "      <th>Don Filkins</th>\n",
       "      <td>528800</td>\n",
       "      <td>6</td>\n",
       "    </tr>\n",
       "    <tr>\n",
       "      <th>AGENT00679</th>\n",
       "      <th>Clara Barnett</th>\n",
       "      <td>489000</td>\n",
       "      <td>4</td>\n",
       "    </tr>\n",
       "    <tr>\n",
       "      <th>AGENT00771</th>\n",
       "      <th>Roger Burns</th>\n",
       "      <td>422100</td>\n",
       "      <td>5</td>\n",
       "    </tr>\n",
       "    <tr>\n",
       "      <th>AGENT00125</th>\n",
       "      <th>Salvador Soriano</th>\n",
       "      <td>400400</td>\n",
       "      <td>4</td>\n",
       "    </tr>\n",
       "    <tr>\n",
       "      <th>AGENT00789</th>\n",
       "      <th>Alison Baron</th>\n",
       "      <td>392900</td>\n",
       "      <td>4</td>\n",
       "    </tr>\n",
       "    <tr>\n",
       "      <th>...</th>\n",
       "      <th>...</th>\n",
       "      <td>...</td>\n",
       "      <td>...</td>\n",
       "    </tr>\n",
       "    <tr>\n",
       "      <th>AGENT00910</th>\n",
       "      <th>Vincent Ragan</th>\n",
       "      <td>15500</td>\n",
       "      <td>3</td>\n",
       "    </tr>\n",
       "    <tr>\n",
       "      <th>AGENT00689</th>\n",
       "      <th>Connie Hunt</th>\n",
       "      <td>13700</td>\n",
       "      <td>3</td>\n",
       "    </tr>\n",
       "    <tr>\n",
       "      <th>AGENT00732</th>\n",
       "      <th>Sylvia Tran</th>\n",
       "      <td>11300</td>\n",
       "      <td>3</td>\n",
       "    </tr>\n",
       "    <tr>\n",
       "      <th>AGENT00706</th>\n",
       "      <th>Laura Staggs</th>\n",
       "      <td>10800</td>\n",
       "      <td>3</td>\n",
       "    </tr>\n",
       "    <tr>\n",
       "      <th>AGENT00604</th>\n",
       "      <th>Thelma Salinas</th>\n",
       "      <td>5500</td>\n",
       "      <td>3</td>\n",
       "    </tr>\n",
       "  </tbody>\n",
       "</table>\n",
       "<p>1164 rows × 2 columns</p>\n",
       "</div>"
      ],
      "text/plain": [
       "                             CLAIM_AMOUNT  INSURANCE_TYPE\n",
       "AGENT_ID   AGENT_NAME                                    \n",
       "AGENT00807 Don Filkins             528800               6\n",
       "AGENT00679 Clara Barnett           489000               4\n",
       "AGENT00771 Roger Burns             422100               5\n",
       "AGENT00125 Salvador Soriano        400400               4\n",
       "AGENT00789 Alison Baron            392900               4\n",
       "...                                   ...             ...\n",
       "AGENT00910 Vincent Ragan            15500               3\n",
       "AGENT00689 Connie Hunt              13700               3\n",
       "AGENT00732 Sylvia Tran              11300               3\n",
       "AGENT00706 Laura Staggs             10800               3\n",
       "AGENT00604 Thelma Salinas            5500               3\n",
       "\n",
       "[1164 rows x 2 columns]"
      ]
     },
     "execution_count": 35,
     "metadata": {},
     "output_type": "execute_result"
    }
   ],
   "source": [
    "top_agent_types.join(agent_count)"
   ]
  },
  {
   "cell_type": "markdown",
   "metadata": {},
   "source": [
    "### TASK 8"
   ]
  },
  {
   "cell_type": "code",
   "execution_count": null,
   "metadata": {},
   "outputs": [],
   "source": [
    "# Mobile & Travel Insurance premium are discounted by 10%\n",
    "# Health and Property Insurance premium are increased by 7%\n",
    "# Life and Motor Insurance premium are marginally increased by 2%\n",
    "# What will be overall change in % of the Premium Amount Collected for all these Customer?"
   ]
  },
  {
   "cell_type": "code",
   "execution_count": 37,
   "metadata": {},
   "outputs": [],
   "source": [
    "premium_collected = all_data1['PREMIUM_AMOUNT'].sum()"
   ]
  },
  {
   "cell_type": "code",
   "execution_count": 38,
   "metadata": {},
   "outputs": [],
   "source": [
    "premium_types = all_data1.groupby('INSURANCE_TYPE').sum()['PREMIUM_AMOUNT'].to_dict()"
   ]
  },
  {
   "cell_type": "code",
   "execution_count": 39,
   "metadata": {},
   "outputs": [
    {
     "data": {
      "text/plain": [
       "{'Health': 252455.73,\n",
       " 'Life': 125621.22,\n",
       " 'Mobile': 15191.42,\n",
       " 'Motor': 165391.98,\n",
       " 'Property': 202285.83,\n",
       " 'Travel': 124139.77}"
      ]
     },
     "execution_count": 39,
     "metadata": {},
     "output_type": "execute_result"
    }
   ],
   "source": [
    "premium_types"
   ]
  },
  {
   "cell_type": "code",
   "execution_count": 44,
   "metadata": {},
   "outputs": [],
   "source": [
    "premium_types['Mobile'] *= 0.9\n",
    "premium_types['Travel'] *= 0.9\n",
    "\n",
    "premium_types['Health'] *= 0.7\n",
    "premium_types['Property'] *= 0.7\n",
    "\n",
    "premium_types['Life'] *= 0.2\n",
    "premium_types['Motor'] *= 0.2"
   ]
  },
  {
   "cell_type": "code",
   "execution_count": 45,
   "metadata": {},
   "outputs": [],
   "source": [
    "premium_after = sum(premium_types.values())"
   ]
  },
  {
   "cell_type": "code",
   "execution_count": 46,
   "metadata": {},
   "outputs": [
    {
     "data": {
      "text/plain": [
       "27.907312222050294"
      ]
     },
     "execution_count": 46,
     "metadata": {},
     "output_type": "execute_result"
    }
   ],
   "source": [
    "(premium_after)* 100/ premium_collected"
   ]
  },
  {
   "cell_type": "code",
   "execution_count": 47,
   "metadata": {},
   "outputs": [
    {
     "data": {
      "text/plain": [
       "(885085.95, 247003.69949999996)"
      ]
     },
     "execution_count": 47,
     "metadata": {},
     "output_type": "execute_result"
    }
   ],
   "source": [
    "premium_collected, premium_after"
   ]
  },
  {
   "cell_type": "markdown",
   "metadata": {},
   "source": [
    "### TASK 9 "
   ]
  },
  {
   "cell_type": "code",
   "execution_count": null,
   "metadata": {},
   "outputs": [],
   "source": [
    "# Business wants to give discount to customer who are loyal and under stress due to Covid19. They have laid down an eligibility Criteria as follow\n",
    "# IF CUSTOMER_TENURE > 60 AND EMPLOYMENT_STATUS = “N”\n",
    "# AND NO_OF_FAMILY_MEMBERS >=4 THEN 1 ELSE 0\n",
    "# Create a new column “ELIGIBLE_FOR_DISCOUNT” and find it mean."
   ]
  },
  {
   "cell_type": "code",
   "execution_count": 53,
   "metadata": {},
   "outputs": [],
   "source": [
    "loyal_customers = (all_data1['TENURE'] > 60 ) & (all_data1['EMPLOYMENT_STATUS']=='N') & (all_data1['NO_OF_FAMILY_MEMBERS']>= 4)"
   ]
  },
  {
   "cell_type": "code",
   "execution_count": 54,
   "metadata": {},
   "outputs": [],
   "source": [
    "all_data1['ELIGIBLE_FOR_DISCOUNT'] = loyal_customers.astype('int')"
   ]
  },
  {
   "cell_type": "code",
   "execution_count": 55,
   "metadata": {},
   "outputs": [
    {
     "data": {
      "text/plain": [
       "0.0299"
      ]
     },
     "execution_count": 55,
     "metadata": {},
     "output_type": "execute_result"
    }
   ],
   "source": [
    "all_data1['ELIGIBLE_FOR_DISCOUNT'].mean()"
   ]
  },
  {
   "cell_type": "markdown",
   "metadata": {},
   "source": [
    "### Task 10"
   ]
  },
  {
   "cell_type": "code",
   "execution_count": null,
   "metadata": {},
   "outputs": [],
   "source": [
    "# Business wants to check Claim Velocity which is defined as follow\n",
    "# CLAIM_VELOCITY = NO_OF_CLAIMS_IN_LAST30DAYS (for the current insurance type) / NO_OF_CLAIMS_IN_LAST3DAYS (for the current insurance type)\n",
    "# Note: LAST30DAYS & LAST3DAYS does not include current day"
   ]
  },
  {
   "cell_type": "code",
   "execution_count": 56,
   "metadata": {},
   "outputs": [
    {
     "data": {
      "text/plain": [
       "A    9497\n",
       "D     503\n",
       "Name: CLAIM_STATUS, dtype: int64"
      ]
     },
     "execution_count": 56,
     "metadata": {},
     "output_type": "execute_result"
    }
   ],
   "source": [
    "all_data1['CLAIM_STATUS'].value_counts()"
   ]
  },
  {
   "cell_type": "code",
   "execution_count": 58,
   "metadata": {},
   "outputs": [],
   "source": [
    "last_3days = all_data1[(all_data1['TXN_DATE_TIME'] > latest_date-pd.Timedelta(days=4)) & (all_data1['TXN_DATE_TIME'] < latest_date)]"
   ]
  },
  {
   "cell_type": "code",
   "execution_count": 59,
   "metadata": {},
   "outputs": [],
   "source": [
    "claims_30days = pd.DataFrame.from_dict(last_30days[last_30days['CLAIM_STATUS']=='A'].groupby('INSURANCE_TYPE').size().to_dict(),orient='index',columns=['NO_OF_CLAIMS_IN_LAST30DAYS'])"
   ]
  },
  {
   "cell_type": "code",
   "execution_count": 60,
   "metadata": {},
   "outputs": [],
   "source": [
    "claims_3days = pd.DataFrame.from_dict(last_3days[last_3days['CLAIM_STATUS']=='A'].groupby('INSURANCE_TYPE').size().to_dict(),orient='index',columns=['NO_OF_CLAIMS_IN_LAST3DAYS'])"
   ]
  },
  {
   "cell_type": "code",
   "execution_count": 61,
   "metadata": {},
   "outputs": [],
   "source": [
    "claims_approved = claims_30days.join(claims_3days)"
   ]
  },
  {
   "cell_type": "code",
   "execution_count": 62,
   "metadata": {},
   "outputs": [],
   "source": [
    "claims_approved['CLAIM_VELOCITY'] = claims_approved['NO_OF_CLAIMS_IN_LAST30DAYS']/claims_approved['NO_OF_CLAIMS_IN_LAST3DAYS']"
   ]
  },
  {
   "cell_type": "code",
   "execution_count": 65,
   "metadata": {},
   "outputs": [
    {
     "data": {
      "text/html": [
       "<div>\n",
       "<style scoped>\n",
       "    .dataframe tbody tr th:only-of-type {\n",
       "        vertical-align: middle;\n",
       "    }\n",
       "\n",
       "    .dataframe tbody tr th {\n",
       "        vertical-align: top;\n",
       "    }\n",
       "\n",
       "    .dataframe thead th {\n",
       "        text-align: right;\n",
       "    }\n",
       "</style>\n",
       "<table border=\"1\" class=\"dataframe\">\n",
       "  <thead>\n",
       "    <tr style=\"text-align: right;\">\n",
       "      <th></th>\n",
       "      <th>NO_OF_CLAIMS_IN_LAST30DAYS</th>\n",
       "      <th>NO_OF_CLAIMS_IN_LAST3DAYS</th>\n",
       "      <th>CLAIM_VELOCITY</th>\n",
       "    </tr>\n",
       "  </thead>\n",
       "  <tbody>\n",
       "    <tr>\n",
       "      <th>Health</th>\n",
       "      <td>128</td>\n",
       "      <td>14</td>\n",
       "      <td>9.142857</td>\n",
       "    </tr>\n",
       "    <tr>\n",
       "      <th>Life</th>\n",
       "      <td>128</td>\n",
       "      <td>12</td>\n",
       "      <td>10.666667</td>\n",
       "    </tr>\n",
       "    <tr>\n",
       "      <th>Mobile</th>\n",
       "      <td>127</td>\n",
       "      <td>9</td>\n",
       "      <td>14.111111</td>\n",
       "    </tr>\n",
       "    <tr>\n",
       "      <th>Motor</th>\n",
       "      <td>117</td>\n",
       "      <td>12</td>\n",
       "      <td>9.750000</td>\n",
       "    </tr>\n",
       "    <tr>\n",
       "      <th>Property</th>\n",
       "      <td>125</td>\n",
       "      <td>12</td>\n",
       "      <td>10.416667</td>\n",
       "    </tr>\n",
       "    <tr>\n",
       "      <th>Travel</th>\n",
       "      <td>123</td>\n",
       "      <td>14</td>\n",
       "      <td>8.785714</td>\n",
       "    </tr>\n",
       "  </tbody>\n",
       "</table>\n",
       "</div>"
      ],
      "text/plain": [
       "          NO_OF_CLAIMS_IN_LAST30DAYS  NO_OF_CLAIMS_IN_LAST3DAYS  \\\n",
       "Health                           128                         14   \n",
       "Life                             128                         12   \n",
       "Mobile                           127                          9   \n",
       "Motor                            117                         12   \n",
       "Property                         125                         12   \n",
       "Travel                           123                         14   \n",
       "\n",
       "          CLAIM_VELOCITY  \n",
       "Health          9.142857  \n",
       "Life           10.666667  \n",
       "Mobile         14.111111  \n",
       "Motor           9.750000  \n",
       "Property       10.416667  \n",
       "Travel          8.785714  "
      ]
     },
     "execution_count": 65,
     "metadata": {},
     "output_type": "execute_result"
    }
   ],
   "source": [
    "claims_approved"
   ]
  },
  {
   "cell_type": "code",
   "execution_count": 78,
   "metadata": {},
   "outputs": [],
   "source": [
    "All_30_claims = pd.DataFrame.from_dict(last_30days.groupby('INSURANCE_TYPE').size().to_dict(),orient='index',columns=['CLAIMS_IN_LAST30DAYS'])"
   ]
  },
  {
   "cell_type": "code",
   "execution_count": 79,
   "metadata": {},
   "outputs": [],
   "source": [
    "All3_claims = pd.DataFrame.from_dict(last_3days.groupby('INSURANCE_TYPE').size().to_dict(),orient='index',columns=['CLAIMS_IN_LAST3DAYS'])"
   ]
  },
  {
   "cell_type": "code",
   "execution_count": 80,
   "metadata": {},
   "outputs": [],
   "source": [
    "total_claims = All_30_claims.join(All3_claims)"
   ]
  },
  {
   "cell_type": "code",
   "execution_count": 81,
   "metadata": {},
   "outputs": [],
   "source": [
    "total_claims['CLAIM_VELOCITY'] = total_claims['CLAIMS_IN_LAST30DAYS']/total_claims['CLAIMS_IN_LAST3DAYS']"
   ]
  },
  {
   "cell_type": "code",
   "execution_count": 82,
   "metadata": {},
   "outputs": [
    {
     "data": {
      "text/html": [
       "<div>\n",
       "<style scoped>\n",
       "    .dataframe tbody tr th:only-of-type {\n",
       "        vertical-align: middle;\n",
       "    }\n",
       "\n",
       "    .dataframe tbody tr th {\n",
       "        vertical-align: top;\n",
       "    }\n",
       "\n",
       "    .dataframe thead th {\n",
       "        text-align: right;\n",
       "    }\n",
       "</style>\n",
       "<table border=\"1\" class=\"dataframe\">\n",
       "  <thead>\n",
       "    <tr style=\"text-align: right;\">\n",
       "      <th></th>\n",
       "      <th>CLAIMS_IN_LAST30DAYS</th>\n",
       "      <th>CLAIMS_IN_LAST3DAYS</th>\n",
       "      <th>CLAIM_VELOCITY</th>\n",
       "    </tr>\n",
       "  </thead>\n",
       "  <tbody>\n",
       "    <tr>\n",
       "      <th>Health</th>\n",
       "      <td>136</td>\n",
       "      <td>14</td>\n",
       "      <td>9.714286</td>\n",
       "    </tr>\n",
       "    <tr>\n",
       "      <th>Life</th>\n",
       "      <td>140</td>\n",
       "      <td>14</td>\n",
       "      <td>10.000000</td>\n",
       "    </tr>\n",
       "    <tr>\n",
       "      <th>Mobile</th>\n",
       "      <td>134</td>\n",
       "      <td>10</td>\n",
       "      <td>13.400000</td>\n",
       "    </tr>\n",
       "    <tr>\n",
       "      <th>Motor</th>\n",
       "      <td>122</td>\n",
       "      <td>13</td>\n",
       "      <td>9.384615</td>\n",
       "    </tr>\n",
       "    <tr>\n",
       "      <th>Property</th>\n",
       "      <td>129</td>\n",
       "      <td>13</td>\n",
       "      <td>9.923077</td>\n",
       "    </tr>\n",
       "    <tr>\n",
       "      <th>Travel</th>\n",
       "      <td>125</td>\n",
       "      <td>14</td>\n",
       "      <td>8.928571</td>\n",
       "    </tr>\n",
       "  </tbody>\n",
       "</table>\n",
       "</div>"
      ],
      "text/plain": [
       "          CLAIMS_IN_LAST30DAYS  CLAIMS_IN_LAST3DAYS  CLAIM_VELOCITY\n",
       "Health                     136                   14        9.714286\n",
       "Life                       140                   14       10.000000\n",
       "Mobile                     134                   10       13.400000\n",
       "Motor                      122                   13        9.384615\n",
       "Property                   129                   13        9.923077\n",
       "Travel                     125                   14        8.928571"
      ]
     },
     "execution_count": 82,
     "metadata": {},
     "output_type": "execute_result"
    }
   ],
   "source": [
    "total_claims"
   ]
  },
  {
   "cell_type": "markdown",
   "metadata": {},
   "source": [
    "### TASK 11"
   ]
  },
  {
   "cell_type": "code",
   "execution_count": null,
   "metadata": {},
   "outputs": [],
   "source": [
    "# Find all low performing agents i.e. employees who are in the bottom 5 percentile based on Claims worked by them."
   ]
  },
  {
   "cell_type": "code",
   "execution_count": 83,
   "metadata": {},
   "outputs": [],
   "source": [
    "Bottom_5percentile = all_data1.groupby('AGENT_ID').sum().quantile(0.05)['CLAIM_AMOUNT']"
   ]
  },
  {
   "cell_type": "code",
   "execution_count": 84,
   "metadata": {},
   "outputs": [],
   "source": [
    "Agent_data = all_data1.groupby('AGENT_ID').sum()"
   ]
  },
  {
   "cell_type": "code",
   "execution_count": 85,
   "metadata": {},
   "outputs": [],
   "source": [
    "Bottom_5p_agents = Agent_data[Agent_data['CLAIM_AMOUNT']<=Bottom_5percentile][['CLAIM_AMOUNT']]"
   ]
  },
  {
   "cell_type": "code",
   "execution_count": 86,
   "metadata": {},
   "outputs": [
    {
     "data": {
      "text/html": [
       "<div>\n",
       "<style scoped>\n",
       "    .dataframe tbody tr th:only-of-type {\n",
       "        vertical-align: middle;\n",
       "    }\n",
       "\n",
       "    .dataframe tbody tr th {\n",
       "        vertical-align: top;\n",
       "    }\n",
       "\n",
       "    .dataframe thead th {\n",
       "        text-align: right;\n",
       "    }\n",
       "</style>\n",
       "<table border=\"1\" class=\"dataframe\">\n",
       "  <thead>\n",
       "    <tr style=\"text-align: right;\">\n",
       "      <th></th>\n",
       "      <th>CLAIM_AMOUNT</th>\n",
       "    </tr>\n",
       "    <tr>\n",
       "      <th>AGENT_ID</th>\n",
       "      <th></th>\n",
       "    </tr>\n",
       "  </thead>\n",
       "  <tbody>\n",
       "    <tr>\n",
       "      <th>AGENT00006</th>\n",
       "      <td>22400</td>\n",
       "    </tr>\n",
       "    <tr>\n",
       "      <th>AGENT00014</th>\n",
       "      <td>7400</td>\n",
       "    </tr>\n",
       "    <tr>\n",
       "      <th>AGENT00016</th>\n",
       "      <td>27000</td>\n",
       "    </tr>\n",
       "    <tr>\n",
       "      <th>AGENT00085</th>\n",
       "      <td>25700</td>\n",
       "    </tr>\n",
       "    <tr>\n",
       "      <th>AGENT00088</th>\n",
       "      <td>27700</td>\n",
       "    </tr>\n",
       "    <tr>\n",
       "      <th>AGENT00091</th>\n",
       "      <td>30000</td>\n",
       "    </tr>\n",
       "    <tr>\n",
       "      <th>AGENT00098</th>\n",
       "      <td>28200</td>\n",
       "    </tr>\n",
       "    <tr>\n",
       "      <th>AGENT00134</th>\n",
       "      <td>22000</td>\n",
       "    </tr>\n",
       "    <tr>\n",
       "      <th>AGENT00149</th>\n",
       "      <td>28900</td>\n",
       "    </tr>\n",
       "    <tr>\n",
       "      <th>AGENT00156</th>\n",
       "      <td>13200</td>\n",
       "    </tr>\n",
       "    <tr>\n",
       "      <th>AGENT00172</th>\n",
       "      <td>22200</td>\n",
       "    </tr>\n",
       "    <tr>\n",
       "      <th>AGENT00185</th>\n",
       "      <td>16100</td>\n",
       "    </tr>\n",
       "    <tr>\n",
       "      <th>AGENT00186</th>\n",
       "      <td>27700</td>\n",
       "    </tr>\n",
       "    <tr>\n",
       "      <th>AGENT00188</th>\n",
       "      <td>28400</td>\n",
       "    </tr>\n",
       "    <tr>\n",
       "      <th>AGENT00197</th>\n",
       "      <td>18500</td>\n",
       "    </tr>\n",
       "    <tr>\n",
       "      <th>AGENT00252</th>\n",
       "      <td>20000</td>\n",
       "    </tr>\n",
       "    <tr>\n",
       "      <th>AGENT00263</th>\n",
       "      <td>11500</td>\n",
       "    </tr>\n",
       "    <tr>\n",
       "      <th>AGENT00275</th>\n",
       "      <td>16200</td>\n",
       "    </tr>\n",
       "    <tr>\n",
       "      <th>AGENT00279</th>\n",
       "      <td>28000</td>\n",
       "    </tr>\n",
       "    <tr>\n",
       "      <th>AGENT00300</th>\n",
       "      <td>12600</td>\n",
       "    </tr>\n",
       "    <tr>\n",
       "      <th>AGENT00310</th>\n",
       "      <td>28800</td>\n",
       "    </tr>\n",
       "    <tr>\n",
       "      <th>AGENT00316</th>\n",
       "      <td>22200</td>\n",
       "    </tr>\n",
       "    <tr>\n",
       "      <th>AGENT00351</th>\n",
       "      <td>21700</td>\n",
       "    </tr>\n",
       "    <tr>\n",
       "      <th>AGENT00425</th>\n",
       "      <td>17800</td>\n",
       "    </tr>\n",
       "    <tr>\n",
       "      <th>AGENT00442</th>\n",
       "      <td>30300</td>\n",
       "    </tr>\n",
       "    <tr>\n",
       "      <th>AGENT00536</th>\n",
       "      <td>20000</td>\n",
       "    </tr>\n",
       "    <tr>\n",
       "      <th>AGENT00562</th>\n",
       "      <td>21100</td>\n",
       "    </tr>\n",
       "    <tr>\n",
       "      <th>AGENT00571</th>\n",
       "      <td>24200</td>\n",
       "    </tr>\n",
       "    <tr>\n",
       "      <th>AGENT00585</th>\n",
       "      <td>16600</td>\n",
       "    </tr>\n",
       "    <tr>\n",
       "      <th>AGENT00590</th>\n",
       "      <td>22200</td>\n",
       "    </tr>\n",
       "    <tr>\n",
       "      <th>AGENT00604</th>\n",
       "      <td>5500</td>\n",
       "    </tr>\n",
       "    <tr>\n",
       "      <th>AGENT00621</th>\n",
       "      <td>5300</td>\n",
       "    </tr>\n",
       "    <tr>\n",
       "      <th>AGENT00628</th>\n",
       "      <td>6100</td>\n",
       "    </tr>\n",
       "    <tr>\n",
       "      <th>AGENT00672</th>\n",
       "      <td>21300</td>\n",
       "    </tr>\n",
       "    <tr>\n",
       "      <th>AGENT00689</th>\n",
       "      <td>13700</td>\n",
       "    </tr>\n",
       "    <tr>\n",
       "      <th>AGENT00706</th>\n",
       "      <td>10800</td>\n",
       "    </tr>\n",
       "    <tr>\n",
       "      <th>AGENT00721</th>\n",
       "      <td>9000</td>\n",
       "    </tr>\n",
       "    <tr>\n",
       "      <th>AGENT00732</th>\n",
       "      <td>11300</td>\n",
       "    </tr>\n",
       "    <tr>\n",
       "      <th>AGENT00773</th>\n",
       "      <td>15000</td>\n",
       "    </tr>\n",
       "    <tr>\n",
       "      <th>AGENT00780</th>\n",
       "      <td>11300</td>\n",
       "    </tr>\n",
       "    <tr>\n",
       "      <th>AGENT00790</th>\n",
       "      <td>6000</td>\n",
       "    </tr>\n",
       "    <tr>\n",
       "      <th>AGENT00804</th>\n",
       "      <td>20000</td>\n",
       "    </tr>\n",
       "    <tr>\n",
       "      <th>AGENT00805</th>\n",
       "      <td>22600</td>\n",
       "    </tr>\n",
       "    <tr>\n",
       "      <th>AGENT00830</th>\n",
       "      <td>23500</td>\n",
       "    </tr>\n",
       "    <tr>\n",
       "      <th>AGENT00841</th>\n",
       "      <td>17800</td>\n",
       "    </tr>\n",
       "    <tr>\n",
       "      <th>AGENT00856</th>\n",
       "      <td>24200</td>\n",
       "    </tr>\n",
       "    <tr>\n",
       "      <th>AGENT00894</th>\n",
       "      <td>27600</td>\n",
       "    </tr>\n",
       "    <tr>\n",
       "      <th>AGENT00910</th>\n",
       "      <td>15500</td>\n",
       "    </tr>\n",
       "    <tr>\n",
       "      <th>AGENT00969</th>\n",
       "      <td>28300</td>\n",
       "    </tr>\n",
       "    <tr>\n",
       "      <th>AGENT00985</th>\n",
       "      <td>30000</td>\n",
       "    </tr>\n",
       "    <tr>\n",
       "      <th>AGENT01021</th>\n",
       "      <td>24300</td>\n",
       "    </tr>\n",
       "    <tr>\n",
       "      <th>AGENT01037</th>\n",
       "      <td>5600</td>\n",
       "    </tr>\n",
       "    <tr>\n",
       "      <th>AGENT01052</th>\n",
       "      <td>28000</td>\n",
       "    </tr>\n",
       "    <tr>\n",
       "      <th>AGENT01077</th>\n",
       "      <td>4200</td>\n",
       "    </tr>\n",
       "    <tr>\n",
       "      <th>AGENT01107</th>\n",
       "      <td>24700</td>\n",
       "    </tr>\n",
       "    <tr>\n",
       "      <th>AGENT01128</th>\n",
       "      <td>28000</td>\n",
       "    </tr>\n",
       "    <tr>\n",
       "      <th>AGENT01131</th>\n",
       "      <td>27500</td>\n",
       "    </tr>\n",
       "    <tr>\n",
       "      <th>AGENT01151</th>\n",
       "      <td>28000</td>\n",
       "    </tr>\n",
       "    <tr>\n",
       "      <th>AGENT01154</th>\n",
       "      <td>800</td>\n",
       "    </tr>\n",
       "    <tr>\n",
       "      <th>AGENT01179</th>\n",
       "      <td>27300</td>\n",
       "    </tr>\n",
       "  </tbody>\n",
       "</table>\n",
       "</div>"
      ],
      "text/plain": [
       "            CLAIM_AMOUNT\n",
       "AGENT_ID                \n",
       "AGENT00006         22400\n",
       "AGENT00014          7400\n",
       "AGENT00016         27000\n",
       "AGENT00085         25700\n",
       "AGENT00088         27700\n",
       "AGENT00091         30000\n",
       "AGENT00098         28200\n",
       "AGENT00134         22000\n",
       "AGENT00149         28900\n",
       "AGENT00156         13200\n",
       "AGENT00172         22200\n",
       "AGENT00185         16100\n",
       "AGENT00186         27700\n",
       "AGENT00188         28400\n",
       "AGENT00197         18500\n",
       "AGENT00252         20000\n",
       "AGENT00263         11500\n",
       "AGENT00275         16200\n",
       "AGENT00279         28000\n",
       "AGENT00300         12600\n",
       "AGENT00310         28800\n",
       "AGENT00316         22200\n",
       "AGENT00351         21700\n",
       "AGENT00425         17800\n",
       "AGENT00442         30300\n",
       "AGENT00536         20000\n",
       "AGENT00562         21100\n",
       "AGENT00571         24200\n",
       "AGENT00585         16600\n",
       "AGENT00590         22200\n",
       "AGENT00604          5500\n",
       "AGENT00621          5300\n",
       "AGENT00628          6100\n",
       "AGENT00672         21300\n",
       "AGENT00689         13700\n",
       "AGENT00706         10800\n",
       "AGENT00721          9000\n",
       "AGENT00732         11300\n",
       "AGENT00773         15000\n",
       "AGENT00780         11300\n",
       "AGENT00790          6000\n",
       "AGENT00804         20000\n",
       "AGENT00805         22600\n",
       "AGENT00830         23500\n",
       "AGENT00841         17800\n",
       "AGENT00856         24200\n",
       "AGENT00894         27600\n",
       "AGENT00910         15500\n",
       "AGENT00969         28300\n",
       "AGENT00985         30000\n",
       "AGENT01021         24300\n",
       "AGENT01037          5600\n",
       "AGENT01052         28000\n",
       "AGENT01077          4200\n",
       "AGENT01107         24700\n",
       "AGENT01128         28000\n",
       "AGENT01131         27500\n",
       "AGENT01151         28000\n",
       "AGENT01154           800\n",
       "AGENT01179         27300"
      ]
     },
     "execution_count": 86,
     "metadata": {},
     "output_type": "execute_result"
    }
   ],
   "source": [
    "Bottom_5p_agents"
   ]
  },
  {
   "cell_type": "markdown",
   "metadata": {},
   "source": [
    "### TASK 12"
   ]
  },
  {
   "cell_type": "code",
   "execution_count": null,
   "metadata": {},
   "outputs": [],
   "source": [
    "# Business wants to find all Suspicious Employees (Agents).\n",
    "# IF TOTAL CLAIM AMOUNT which meet below criteria is >= 15000 THEN AGENT is classified as Suspicious ELSE Not\n",
    "# CLAIM_STATUS = Approved AND CUSTOMER_RISK_SEGMENTATION = High\n",
    "# AND INCIDENT_SEVERITY = “Major Loss”\n",
    "# If Suspicious, then 1 ELSE 0. Find mean of this column."
   ]
  },
  {
   "cell_type": "code",
   "execution_count": 92,
   "metadata": {},
   "outputs": [],
   "source": [
    "target = (all_data1['CLAIM_STATUS']=='A')&(all_data1['RISK_SEGMENTATION']=='H')&(all_data1['INCIDENT_SEVERITY']=='Major Loss')"
   ]
  },
  {
   "cell_type": "code",
   "execution_count": 97,
   "metadata": {},
   "outputs": [],
   "source": [
    "Target = all_data1[target]"
   ]
  },
  {
   "cell_type": "code",
   "execution_count": 98,
   "metadata": {},
   "outputs": [],
   "source": [
    "suspicious_employee_data = Target.groupby('AGENT_ID').sum()"
   ]
  },
  {
   "cell_type": "code",
   "execution_count": 102,
   "metadata": {},
   "outputs": [],
   "source": [
    "suspicious_employee = list(suspicious_employee_data[suspicious_employee_data['CLAIM_AMOUNT']>= 15000].index)"
   ]
  },
  {
   "cell_type": "code",
   "execution_count": 103,
   "metadata": {},
   "outputs": [
    {
     "data": {
      "text/html": [
       "<div>\n",
       "<style scoped>\n",
       "    .dataframe tbody tr th:only-of-type {\n",
       "        vertical-align: middle;\n",
       "    }\n",
       "\n",
       "    .dataframe tbody tr th {\n",
       "        vertical-align: top;\n",
       "    }\n",
       "\n",
       "    .dataframe thead th {\n",
       "        text-align: right;\n",
       "    }\n",
       "</style>\n",
       "<table border=\"1\" class=\"dataframe\">\n",
       "  <thead>\n",
       "    <tr style=\"text-align: right;\">\n",
       "      <th></th>\n",
       "      <th>AGENT_ID</th>\n",
       "      <th>AGENT_NAME</th>\n",
       "      <th>DATE_OF_JOINING</th>\n",
       "      <th>ADDRESS_LINE1</th>\n",
       "      <th>ADDRESS_LINE2</th>\n",
       "      <th>CITY</th>\n",
       "      <th>STATE</th>\n",
       "      <th>POSTAL_CODE</th>\n",
       "      <th>EMP_ROUTING_NUMBER</th>\n",
       "      <th>EMP_ACCT_NUMBER</th>\n",
       "    </tr>\n",
       "  </thead>\n",
       "  <tbody>\n",
       "    <tr>\n",
       "      <th>0</th>\n",
       "      <td>AGENT00001</td>\n",
       "      <td>Ray Johns</td>\n",
       "      <td>1993-06-05</td>\n",
       "      <td>1402 Maggies Way</td>\n",
       "      <td>NaN</td>\n",
       "      <td>Waterbury Center</td>\n",
       "      <td>VT</td>\n",
       "      <td>5677</td>\n",
       "      <td>34584958</td>\n",
       "      <td>HKUN51252328472585</td>\n",
       "    </tr>\n",
       "    <tr>\n",
       "      <th>1</th>\n",
       "      <td>AGENT00002</td>\n",
       "      <td>Angelo Borjon</td>\n",
       "      <td>2005-12-27</td>\n",
       "      <td>414 Tanya Pass</td>\n",
       "      <td>NaN</td>\n",
       "      <td>Panama City</td>\n",
       "      <td>FL</td>\n",
       "      <td>32404</td>\n",
       "      <td>107363763</td>\n",
       "      <td>OPIS19290040088204</td>\n",
       "    </tr>\n",
       "    <tr>\n",
       "      <th>2</th>\n",
       "      <td>AGENT00003</td>\n",
       "      <td>Candy Spellman</td>\n",
       "      <td>2003-09-02</td>\n",
       "      <td>606 National Street</td>\n",
       "      <td>#306</td>\n",
       "      <td>Fayetteville</td>\n",
       "      <td>AR</td>\n",
       "      <td>72701</td>\n",
       "      <td>81744097</td>\n",
       "      <td>YSCJ67489688482590</td>\n",
       "    </tr>\n",
       "    <tr>\n",
       "      <th>3</th>\n",
       "      <td>AGENT00004</td>\n",
       "      <td>Mary Smith</td>\n",
       "      <td>2004-09-23</td>\n",
       "      <td>235 Hugh Thomas Drive</td>\n",
       "      <td>NaN</td>\n",
       "      <td>Panama City</td>\n",
       "      <td>FL</td>\n",
       "      <td>32404</td>\n",
       "      <td>67563771</td>\n",
       "      <td>ZANG21285355574581</td>\n",
       "    </tr>\n",
       "    <tr>\n",
       "      <th>4</th>\n",
       "      <td>AGENT00005</td>\n",
       "      <td>Mildred Diaz</td>\n",
       "      <td>2011-06-21</td>\n",
       "      <td>3426 Broadview Street</td>\n",
       "      <td>NaN</td>\n",
       "      <td>Montgomery</td>\n",
       "      <td>AL</td>\n",
       "      <td>36110</td>\n",
       "      <td>114951317</td>\n",
       "      <td>DZFS82244494451134</td>\n",
       "    </tr>\n",
       "    <tr>\n",
       "      <th>...</th>\n",
       "      <td>...</td>\n",
       "      <td>...</td>\n",
       "      <td>...</td>\n",
       "      <td>...</td>\n",
       "      <td>...</td>\n",
       "      <td>...</td>\n",
       "      <td>...</td>\n",
       "      <td>...</td>\n",
       "      <td>...</td>\n",
       "      <td>...</td>\n",
       "    </tr>\n",
       "    <tr>\n",
       "      <th>1195</th>\n",
       "      <td>AGENT01196</td>\n",
       "      <td>Myrtle Mccatty</td>\n",
       "      <td>2005-09-14</td>\n",
       "      <td>3553 Brandywine Street Northwest</td>\n",
       "      <td>NaN</td>\n",
       "      <td>Washington</td>\n",
       "      <td>DC</td>\n",
       "      <td>20008</td>\n",
       "      <td>32137938</td>\n",
       "      <td>EWBR19907574832501</td>\n",
       "    </tr>\n",
       "    <tr>\n",
       "      <th>1196</th>\n",
       "      <td>AGENT01197</td>\n",
       "      <td>John Dorsey</td>\n",
       "      <td>1993-12-04</td>\n",
       "      <td>2315 Chestnut Street</td>\n",
       "      <td>NaN</td>\n",
       "      <td>Montgomery</td>\n",
       "      <td>AL</td>\n",
       "      <td>36107</td>\n",
       "      <td>70796687</td>\n",
       "      <td>KGEJ74846009867837</td>\n",
       "    </tr>\n",
       "    <tr>\n",
       "      <th>1197</th>\n",
       "      <td>AGENT01198</td>\n",
       "      <td>Ruth Bigbee</td>\n",
       "      <td>1993-09-05</td>\n",
       "      <td>1983 Reidsville Street</td>\n",
       "      <td>NaN</td>\n",
       "      <td>Annapolis</td>\n",
       "      <td>MD</td>\n",
       "      <td>21401</td>\n",
       "      <td>124993912</td>\n",
       "      <td>RASV88064214164820</td>\n",
       "    </tr>\n",
       "    <tr>\n",
       "      <th>1198</th>\n",
       "      <td>AGENT01199</td>\n",
       "      <td>Tommie Camacho</td>\n",
       "      <td>2004-10-25</td>\n",
       "      <td>5821 Taft Street</td>\n",
       "      <td>NaN</td>\n",
       "      <td>Arvada</td>\n",
       "      <td>CO</td>\n",
       "      <td>80004</td>\n",
       "      <td>19424059</td>\n",
       "      <td>UOFO11656245339211</td>\n",
       "    </tr>\n",
       "    <tr>\n",
       "      <th>1199</th>\n",
       "      <td>AGENT01200</td>\n",
       "      <td>Virginia Stachura</td>\n",
       "      <td>1999-05-25</td>\n",
       "      <td>3579 2nd Avenue</td>\n",
       "      <td>NaN</td>\n",
       "      <td>Edgewater</td>\n",
       "      <td>MD</td>\n",
       "      <td>21037</td>\n",
       "      <td>12226940</td>\n",
       "      <td>ALYY24945545778511</td>\n",
       "    </tr>\n",
       "  </tbody>\n",
       "</table>\n",
       "<p>1200 rows × 10 columns</p>\n",
       "</div>"
      ],
      "text/plain": [
       "        AGENT_ID         AGENT_NAME DATE_OF_JOINING  \\\n",
       "0     AGENT00001          Ray Johns      1993-06-05   \n",
       "1     AGENT00002      Angelo Borjon      2005-12-27   \n",
       "2     AGENT00003     Candy Spellman      2003-09-02   \n",
       "3     AGENT00004         Mary Smith      2004-09-23   \n",
       "4     AGENT00005       Mildred Diaz      2011-06-21   \n",
       "...          ...                ...             ...   \n",
       "1195  AGENT01196     Myrtle Mccatty      2005-09-14   \n",
       "1196  AGENT01197        John Dorsey      1993-12-04   \n",
       "1197  AGENT01198        Ruth Bigbee      1993-09-05   \n",
       "1198  AGENT01199     Tommie Camacho      2004-10-25   \n",
       "1199  AGENT01200  Virginia Stachura      1999-05-25   \n",
       "\n",
       "                         ADDRESS_LINE1 ADDRESS_LINE2              CITY STATE  \\\n",
       "0                     1402 Maggies Way           NaN  Waterbury Center    VT   \n",
       "1                       414 Tanya Pass           NaN       Panama City    FL   \n",
       "2                  606 National Street          #306      Fayetteville    AR   \n",
       "3                235 Hugh Thomas Drive           NaN       Panama City    FL   \n",
       "4                3426 Broadview Street           NaN        Montgomery    AL   \n",
       "...                                ...           ...               ...   ...   \n",
       "1195  3553 Brandywine Street Northwest           NaN        Washington    DC   \n",
       "1196              2315 Chestnut Street           NaN        Montgomery    AL   \n",
       "1197            1983 Reidsville Street           NaN         Annapolis    MD   \n",
       "1198                  5821 Taft Street           NaN            Arvada    CO   \n",
       "1199                   3579 2nd Avenue           NaN         Edgewater    MD   \n",
       "\n",
       "      POSTAL_CODE  EMP_ROUTING_NUMBER     EMP_ACCT_NUMBER  \n",
       "0            5677            34584958  HKUN51252328472585  \n",
       "1           32404           107363763  OPIS19290040088204  \n",
       "2           72701            81744097  YSCJ67489688482590  \n",
       "3           32404            67563771  ZANG21285355574581  \n",
       "4           36110           114951317  DZFS82244494451134  \n",
       "...           ...                 ...                 ...  \n",
       "1195        20008            32137938  EWBR19907574832501  \n",
       "1196        36107            70796687  KGEJ74846009867837  \n",
       "1197        21401           124993912  RASV88064214164820  \n",
       "1198        80004            19424059  UOFO11656245339211  \n",
       "1199        21037            12226940  ALYY24945545778511  \n",
       "\n",
       "[1200 rows x 10 columns]"
      ]
     },
     "execution_count": 103,
     "metadata": {},
     "output_type": "execute_result"
    }
   ],
   "source": [
    "employee_data"
   ]
  },
  {
   "cell_type": "code",
   "execution_count": 107,
   "metadata": {},
   "outputs": [],
   "source": [
    "employee_data['SUSPICIOUS'] = 0"
   ]
  },
  {
   "cell_type": "code",
   "execution_count": 108,
   "metadata": {},
   "outputs": [],
   "source": [
    "suspicious_emp = employee_data['AGENT_ID'].isin(suspicious_employee)"
   ]
  },
  {
   "cell_type": "code",
   "execution_count": 109,
   "metadata": {},
   "outputs": [],
   "source": [
    "employee_data.loc[suspicious_emp,'SUSPICIOUS']=1"
   ]
  },
  {
   "cell_type": "code",
   "execution_count": 110,
   "metadata": {},
   "outputs": [
    {
     "data": {
      "text/plain": [
       "0.12416666666666666"
      ]
     },
     "execution_count": 110,
     "metadata": {},
     "output_type": "execute_result"
    }
   ],
   "source": [
    "employee_data['SUSPICIOUS'].mean()"
   ]
  },
  {
   "cell_type": "markdown",
   "metadata": {},
   "source": []
  },
  {
   "cell_type": "code",
   "execution_count": null,
   "metadata": {},
   "outputs": [],
   "source": []
  },
  {
   "cell_type": "code",
   "execution_count": null,
   "metadata": {},
   "outputs": [],
   "source": []
  },
  {
   "cell_type": "code",
   "execution_count": null,
   "metadata": {},
   "outputs": [],
   "source": []
  },
  {
   "cell_type": "code",
   "execution_count": null,
   "metadata": {},
   "outputs": [],
   "source": []
  },
  {
   "cell_type": "code",
   "execution_count": null,
   "metadata": {},
   "outputs": [],
   "source": []
  },
  {
   "cell_type": "code",
   "execution_count": null,
   "metadata": {},
   "outputs": [],
   "source": []
  },
  {
   "cell_type": "code",
   "execution_count": null,
   "metadata": {},
   "outputs": [],
   "source": []
  }
 ],
 "metadata": {
  "kernelspec": {
   "display_name": "Python 3.9.7 ('base')",
   "language": "python",
   "name": "python3"
  },
  "language_info": {
   "codemirror_mode": {
    "name": "ipython",
    "version": 3
   },
   "file_extension": ".py",
   "mimetype": "text/x-python",
   "name": "python",
   "nbconvert_exporter": "python",
   "pygments_lexer": "ipython3",
   "version": "3.9.7"
  },
  "orig_nbformat": 4,
  "vscode": {
   "interpreter": {
    "hash": "a3c9e913f6a2d2f0e59b702263a00bb73d1b3a082759835d4a2090cca003c34b"
   }
  }
 },
 "nbformat": 4,
 "nbformat_minor": 2
}
